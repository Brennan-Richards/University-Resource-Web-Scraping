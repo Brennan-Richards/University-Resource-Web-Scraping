{
  "cells": [
    {
      "cell_type": "code",
      "execution_count": 1,
      "metadata": {},
      "outputs": [
        {
          "data": {
            "application/vnd.livy.statement-meta+json": {
              "execution_finish_time": "2023-04-10T12:47:04.5196277Z",
              "execution_start_time": "2023-04-10T12:46:58.5205979Z",
              "livy_statement_state": "available",
              "parent_msg_id": "4d5ceb06-006c-4cea-9126-26d55f753e35",
              "queued_time": "2023-04-10T12:43:24.5623062Z",
              "session_id": "38",
              "session_start_time": "2023-04-10T12:43:24.7514319Z",
              "spark_jobs": null,
              "spark_pool": "smallSpark",
              "state": "finished",
              "statement_id": 1
            },
            "text/plain": [
              "StatementMeta(smallSpark, 38, 1, Finished, Available)"
            ]
          },
          "metadata": {},
          "output_type": "display_data"
        }
      ],
      "source": [
        "import pandas as pd\n",
        "import requests\n",
        "from bs4 import BeautifulSoup\n",
        "import os"
      ]
    },
    {
      "cell_type": "markdown",
      "metadata": {
        "nteract": {
          "transient": {
            "deleting": false
          }
        }
      },
      "source": [
        "### Get the dissertation webpage"
      ]
    },
    {
      "cell_type": "code",
      "execution_count": 278,
      "metadata": {
        "jupyter": {
          "outputs_hidden": false,
          "source_hidden": false
        },
        "nteract": {
          "transient": {
            "deleting": false
          }
        }
      },
      "outputs": [
        {
          "data": {
            "application/vnd.livy.statement-meta+json": {
              "execution_finish_time": "2023-04-10T13:29:56.2201887Z",
              "execution_start_time": "2023-04-10T13:29:55.0715991Z",
              "livy_statement_state": "available",
              "parent_msg_id": "de0767bc-c18c-4947-9c71-800842bcda30",
              "queued_time": "2023-04-10T13:29:54.9108859Z",
              "session_id": "38",
              "session_start_time": null,
              "spark_jobs": null,
              "spark_pool": "smallSpark",
              "state": "finished",
              "statement_id": 278
            },
            "text/plain": [
              "StatementMeta(smallSpark, 38, 278, Finished, Available)"
            ]
          },
          "metadata": {},
          "output_type": "display_data"
        }
      ],
      "source": [
        "url_extension = 'non_oap_facpubs/index.11.html'\n",
        "LINK_INDICATOR = \"facpubs/\"\n",
        "URL = f\"https://digitalcommons.uri.edu/{url_extension}\"\n",
        "page = requests.get(URL)"
      ]
    },
    {
      "cell_type": "markdown",
      "metadata": {
        "nteract": {
          "transient": {
            "deleting": false
          }
        }
      },
      "source": [
        "### Parse out specific data from the page content"
      ]
    },
    {
      "cell_type": "code",
      "execution_count": 279,
      "metadata": {
        "jupyter": {
          "outputs_hidden": false,
          "source_hidden": false
        },
        "nteract": {
          "transient": {
            "deleting": false
          }
        }
      },
      "outputs": [
        {
          "data": {
            "application/vnd.livy.statement-meta+json": {
              "execution_finish_time": "2023-04-10T13:29:56.5554982Z",
              "execution_start_time": "2023-04-10T13:29:56.3861274Z",
              "livy_statement_state": "available",
              "parent_msg_id": "4d3640d3-e4ab-4978-a9ac-08b9a3720278",
              "queued_time": "2023-04-10T13:29:55.3248043Z",
              "session_id": "38",
              "session_start_time": null,
              "spark_jobs": null,
              "spark_pool": "smallSpark",
              "state": "finished",
              "statement_id": 279
            },
            "text/plain": [
              "StatementMeta(smallSpark, 38, 279, Finished, Available)"
            ]
          },
          "metadata": {},
          "output_type": "display_data"
        }
      ],
      "source": [
        "soup = BeautifulSoup(page.content, \"html.parser\")"
      ]
    },
    {
      "cell_type": "markdown",
      "metadata": {
        "nteract": {
          "transient": {
            "deleting": false
          }
        }
      },
      "source": [
        "Extract the link from each article listing"
      ]
    },
    {
      "cell_type": "code",
      "execution_count": 280,
      "metadata": {
        "jupyter": {
          "outputs_hidden": false,
          "source_hidden": false
        },
        "nteract": {
          "transient": {
            "deleting": false
          }
        }
      },
      "outputs": [
        {
          "data": {
            "application/vnd.livy.statement-meta+json": {
              "execution_finish_time": "2023-04-10T13:29:56.9498407Z",
              "execution_start_time": "2023-04-10T13:29:56.780016Z",
              "livy_statement_state": "available",
              "parent_msg_id": "4d4804a7-a477-48dc-8846-de07907ab7cf",
              "queued_time": "2023-04-10T13:29:55.7048786Z",
              "session_id": "38",
              "session_start_time": null,
              "spark_jobs": null,
              "spark_pool": "smallSpark",
              "state": "finished",
              "statement_id": 280
            },
            "text/plain": [
              "StatementMeta(smallSpark, 38, 280, Finished, Available)"
            ]
          },
          "metadata": {},
          "output_type": "display_data"
        }
      ],
      "source": [
        "main_div = soup.find(id=\"series-home\")"
      ]
    },
    {
      "cell_type": "code",
      "execution_count": 281,
      "metadata": {
        "jupyter": {
          "outputs_hidden": false,
          "source_hidden": false
        },
        "nteract": {
          "transient": {
            "deleting": false
          }
        }
      },
      "outputs": [
        {
          "data": {
            "application/vnd.livy.statement-meta+json": {
              "execution_finish_time": "2023-04-10T13:29:57.2913749Z",
              "execution_start_time": "2023-04-10T13:29:57.1289526Z",
              "livy_statement_state": "available",
              "parent_msg_id": "4bbba399-94c4-4598-8a15-747925c28249",
              "queued_time": "2023-04-10T13:29:55.8492451Z",
              "session_id": "38",
              "session_start_time": null,
              "spark_jobs": null,
              "spark_pool": "smallSpark",
              "state": "finished",
              "statement_id": 281
            },
            "text/plain": [
              "StatementMeta(smallSpark, 38, 281, Finished, Available)"
            ]
          },
          "metadata": {},
          "output_type": "display_data"
        }
      ],
      "source": [
        "# main_div"
      ]
    },
    {
      "cell_type": "code",
      "execution_count": 282,
      "metadata": {
        "jupyter": {
          "outputs_hidden": false,
          "source_hidden": false
        },
        "nteract": {
          "transient": {
            "deleting": false
          }
        }
      },
      "outputs": [
        {
          "data": {
            "application/vnd.livy.statement-meta+json": {
              "execution_finish_time": "2023-04-10T13:29:57.6068952Z",
              "execution_start_time": "2023-04-10T13:29:57.440371Z",
              "livy_statement_state": "available",
              "parent_msg_id": "e699d09c-95eb-4fd7-ba95-cddab3dae565",
              "queued_time": "2023-04-10T13:29:56.1466201Z",
              "session_id": "38",
              "session_start_time": null,
              "spark_jobs": null,
              "spark_pool": "smallSpark",
              "state": "finished",
              "statement_id": 282
            },
            "text/plain": [
              "StatementMeta(smallSpark, 38, 282, Finished, Available)"
            ]
          },
          "metadata": {},
          "output_type": "display_data"
        }
      ],
      "source": [
        "# Get the link to the page containing more information on this dissertation.\n",
        "links = main_div.find_all(\"a\") # , class_=\"article-listing\")\n",
        "d_info_links = [d for d in links if LINK_INDICATOR in str(d)]"
      ]
    },
    {
      "cell_type": "code",
      "execution_count": 283,
      "metadata": {
        "jupyter": {
          "outputs_hidden": false,
          "source_hidden": false
        },
        "nteract": {
          "transient": {
            "deleting": false
          }
        }
      },
      "outputs": [
        {
          "data": {
            "application/vnd.livy.statement-meta+json": {
              "execution_finish_time": "2023-04-10T13:29:57.9245453Z",
              "execution_start_time": "2023-04-10T13:29:57.7493642Z",
              "livy_statement_state": "available",
              "parent_msg_id": "edfc8967-608a-47e7-97f5-cbc24874d564",
              "queued_time": "2023-04-10T13:29:56.3182167Z",
              "session_id": "38",
              "session_start_time": null,
              "spark_jobs": null,
              "spark_pool": "smallSpark",
              "state": "finished",
              "statement_id": 283
            },
            "text/plain": [
              "StatementMeta(smallSpark, 38, 283, Finished, Available)"
            ]
          },
          "metadata": {},
          "output_type": "display_data"
        },
        {
          "data": {
            "text/plain": [
              "[<a href=\"https://digitalcommons.uri.edu/bps_facpubs/344\">Saudiarabicains A-E, bioactive 19-acetoxyingol diterpenoids from Euphorbia saudiarabica</a>,\n",
              " <a href=\"https://digitalcommons.uri.edu/nursing_facpubs/87\">Building a culture of safety and quality: The paradox of measurement</a>,\n",
              " <a href=\"https://digitalcommons.uri.edu/bio_facpubs/607\">Editorial: Integrating Predation Risk Across Scales: from Neurons to Ecosystems and Milliseconds to Generations</a>,\n",
              " <a href=\"https://digitalcommons.uri.edu/psy_facpubs/67\">Avian Bornaviral Ganglioneuritis: Current Debates and Unanswered Questions</a>,\n",
              " <a href=\"https://digitalcommons.uri.edu/cmb_facpubs/181\">Thermal range and physiological tolerance mechanisms in two shark species from the northwest Atlantic</a>,\n",
              " <a href=\"https://digitalcommons.uri.edu/gsofacpubs/705\">Small phytoplankton dominate western North Atlantic biomass</a>,\n",
              " <a href=\"https://digitalcommons.uri.edu/math_facpubs/138\">Bounds on the localization number</a>,\n",
              " <a href=\"https://digitalcommons.uri.edu/math_facpubs/233\">Group actions, divisors, and plane curves</a>,\n",
              " <a href=\"https://digitalcommons.uri.edu/com_facpubs/71\">Attitudes of Rural Westerners on the Environment and Conservation</a>,\n",
              " <a href=\"https://digitalcommons.uri.edu/com_facpubs/78\">Understanding Rural Attitudes Toward the Environment and Conservation in America</a>,\n",
              " <a href=\"https://digitalcommons.uri.edu/bps_facpubs/211\">The Coarse-Grained Plaque: A Divergent Aβ Plaque-Type in Early-Onset Alzheimer’s Disease</a>,\n",
              " <a href=\"https://digitalcommons.uri.edu/ele_facpubs/104\">Frontal Functional Network Disruption Associated with Amyotrophic Lateral Sclerosis: An fNIRS-Based Minimum Spanning Tree Analysis</a>,\n",
              " <a href=\"https://digitalcommons.uri.edu/ele_facpubs/842\">Enhancing Communication for People in Late-Stage ALS Using an fNIRS-Based BCI System</a>,\n",
              " <a href=\"https://digitalcommons.uri.edu/bio_facpubs/247\">Variable Growth Across Species and Life Stages in Caribbean Reef Octocorals</a>,\n",
              " <a href=\"https://digitalcommons.uri.edu/php_facpubs/176\">Clozapine and hematologic adverse reactions: Impact of the Risk Evaluation and Mitigation Strategy program</a>,\n",
              " <a href=\"https://digitalcommons.uri.edu/oce_facpubs/107\">Tsunami intensity scale based on wave amplitude and current applied to the French Riviera: the case study of local seismicity</a>,\n",
              " <a href=\"https://digitalcommons.uri.edu/maf_facpubs/50\">A method for regional estimation of climate change exposure of coastal infrastructure: Case of USVI and the influence of digital elevation models on assessments</a>,\n",
              " <a href=\"https://digitalcommons.uri.edu/php_facpubs/1126\">Meeting people where they're at: A focus on pharmacist harm reduction roles in the opioid crisis</a>,\n",
              " <a href=\"https://digitalcommons.uri.edu/php_facpubs/1128\">Pharmacists and the opioid crisis: A narrative review of pharmacists' practice roles</a>,\n",
              " <a href=\"https://digitalcommons.uri.edu/gsofacpubs/752\">Allopatric and Sympatric Drivers of Speciation in Alviniconcha Hydrothermal Vent Snails</a>,\n",
              " <a href=\"https://digitalcommons.uri.edu/gsofacpubs/749\">Physiological Dynamics of Chemosynthetic Symbionts in Hydrothermal Vent Snails</a>,\n",
              " <a href=\"https://digitalcommons.uri.edu/bio_facpubs/259\">First insights into the vertical habitat use of the whitespotted eagle ray Aetobatus narinari revealed by pop‐up satellite archival tags</a>,\n",
              " <a href=\"https://digitalcommons.uri.edu/phys_facpubs/390\">Ex-vivo Imaging of Upper Tract Urothelial Carcinoma Using Novel pH Low Insertion Peptide (Variant 3), a Molecular Imaging Probe</a>,\n",
              " <a href=\"https://digitalcommons.uri.edu/php_facpubs/170\">Colectomy averted: A successful case report of Fidaxomicin administration through a loop ileostomy for fulminant, Clostridioides difficile infection</a>,\n",
              " <a href=\"https://digitalcommons.uri.edu/psy_facpubs/752\">Computer-assisted motivational interviewing for contraceptive use in women leaving prison: A randomized controlled trial</a>,\n",
              " <a href=\"https://digitalcommons.uri.edu/php_facpubs/192\">Disseminated Effects in Agent Based Models: A Potential Outcomes Framework and Application to Inform Pre-Exposure Prophylaxis Coverage Levels for HIV Prevention</a>,\n",
              " <a href=\"https://digitalcommons.uri.edu/nrs_facpubs/211\">Community Forestry: Sustainability and Equity Issues</a>,\n",
              " <a href=\"https://digitalcommons.uri.edu/php_facpubs/1127\">Pharmacist attitudes toward pharmacy-based naloxone: A cross-sectional survey study</a>,\n",
              " <a href=\"https://digitalcommons.uri.edu/nfs_facpubs/89\">Lessons Learned: Recruiting Aging Adults for Research</a>,\n",
              " <a href=\"https://digitalcommons.uri.edu/bio_facpubs/516\">Limitations of cross- and multigenerational plasticity for marine invertebrates faced with global climate change</a>,\n",
              " <a href=\"https://digitalcommons.uri.edu/cve_facpubs/49\">Sulfite activation changes character of ferrate resultant particles</a>,\n",
              " <a href=\"https://digitalcommons.uri.edu/enre_facpubs/129\">Land commodification and hukou policy innovation in China: evidence from a survey experiment</a>,\n",
              " <a href=\"https://digitalcommons.uri.edu/enre_facpubs/130\">Political trust, risk preferences, and policy support: A study of land-dispossessed villagers in China</a>,\n",
              " <a href=\"https://digitalcommons.uri.edu/nrs_facpubs/143\">Salt marsh monitoring along the mid-Atlantic coast by Google Earth Engine enabled time series</a>,\n",
              " <a href=\"https://digitalcommons.uri.edu/nrs_facpubs/184\">The State of Inclusive Science Communication: A Landscape Study</a>,\n",
              " <a href=\"https://digitalcommons.uri.edu/nrs_facpubs/154\">Science Communication Demands a Critical Approach That Centers Inclusion, Equity, and Intersectionality</a>,\n",
              " <a href=\"https://digitalcommons.uri.edu/oce_facpubs/240\">A Novel Approach for Evaluating Nonstationary Response of Dynamic Systems to Stochastic Excitation</a>,\n",
              " <a href=\"https://digitalcommons.uri.edu/oce_facpubs/241\">Evaluating response of simple oscillators to a particular kind of time–frequency non-separable evolutionary stochastic processes</a>,\n",
              " <a href=\"https://digitalcommons.uri.edu/oce_facpubs/242\">Global Maximum Response of Linear Systems with Uncertain Damping to Irregular Excitation</a>,\n",
              " <a href=\"https://digitalcommons.uri.edu/geo_facpubs/40\">Editorial: Deep Carbon Science</a>,\n",
              " <a href=\"https://digitalcommons.uri.edu/oce_facpubs/51\">The polygenetic Kahouanne Seamounts in the northern Lesser Antilles island arc: Evidence for large-scale volcanic island subsidence</a>,\n",
              " <a href=\"https://digitalcommons.uri.edu/nrs_facpubs/156\">The effects of dietary linoleic acid and hydrophilic antioxidants on basal, peak, and sustained metabolism in flight‐trained European starlings</a>,\n",
              " <a href=\"https://digitalcommons.uri.edu/cve_facpubs/139\">Comparison of microplastic isolation and extraction procedures from marine sediments</a>,\n",
              " <a href=\"https://digitalcommons.uri.edu/ele_facpubs/926\">Informed prefetching for indirect memory accesses</a>,\n",
              " <a href=\"https://digitalcommons.uri.edu/ele_facpubs/927\">Exploring Prefetching, Pre-Execution and Branch Outcome Streaming for In-Memory Database Lookups</a>,\n",
              " <a href=\"https://digitalcommons.uri.edu/ele_facpubs/843\">SleepSmart: Smart Mattress Integrated with e-Textiles and IoT Functions for Sleep Apnea Management</a>,\n",
              " <a href=\"https://digitalcommons.uri.edu/gsofacpubs/720\">Discovery of an unrecognized pathway carrying overflow waters toward the Faroe Bank Channel</a>,\n",
              " <a href=\"https://digitalcommons.uri.edu/nursing_facpubs/88\">Recruiting Research Participants via Traditional Snowball vs Facebook Advertisements and a Website</a>,\n",
              " <a href=\"https://digitalcommons.uri.edu/kinesiology_facpubs/68\">Relationship between maximal incremental and high-intensity interval exercise performance in elite athletes</a>,\n",
              " <a href=\"https://digitalcommons.uri.edu/mcise_facpubs/42\">A New Paper-Based Microfluidic Device for Improved Detection of Nitrate in Water</a>,\n",
              " <a href=\"https://digitalcommons.uri.edu/mcise_facpubs/38\">Zinculose: A New Fibrous Material with Embedded Zinc Particles</a>,\n",
              " <a href=\"https://digitalcommons.uri.edu/geo_facpubs/39\">Use of α-cyclodextrin to Promote Clean and Environmentally Friendly Disinfection of Phenolic Substrates via Chlorine Dioxide Treatment</a>,\n",
              " <a href=\"https://digitalcommons.uri.edu/nfs_facpubs/85\">Grow Well/Crecer Bien: A Protocol for Research on Infant Feeding Practices in Low-Income Families</a>,\n",
              " <a href=\"https://digitalcommons.uri.edu/cba_facpubs/297\">Non-controlling large shareholders in emerging markets: Evidence from China</a>,\n",
              " <a href=\"https://digitalcommons.uri.edu/psy_facpubs/77\">Characterizing the Impact of Adversity, Abuse, and Neglect on Adolescent Amygdala Resting-state Functional Connectivity</a>,\n",
              " <a href=\"https://digitalcommons.uri.edu/education_facpubs/109\">Mixed-Reality Simulations to Build Capacity for Advocating for Diversity, Equity, and Inclusion in the Geosciences</a>,\n",
              " <a href=\"https://digitalcommons.uri.edu/cmb_facpubs/411\">A combinatorial strategy for overcoming primary and acquired resistance of MEK inhibition in colorectal cancer</a>,\n",
              " <a href=\"https://digitalcommons.uri.edu/cmb_facpubs/412\">Molecular basis for receptor tyrosine kinase A-loop tyrosine transphosphorylation</a>,\n",
              " <a href=\"https://digitalcommons.uri.edu/ele_facpubs/970\">Deterministic learning with probabilistic analysis on human-robot shared contro</a>,\n",
              " <a href=\"https://digitalcommons.uri.edu/ele_facpubs/311\">Distributed Cooperative Control of Multiple Hybrid Energy Storage Systems in a DC Microgrid Using Consensus Protocol</a>,\n",
              " <a href=\"https://digitalcommons.uri.edu/cba_facpubs/176\">Product positioning and pricing decisions in a two-attribute disruptive new market</a>,\n",
              " <a href=\"https://digitalcommons.uri.edu/cba_facpubs/287\">Voting methods for director election, monitoring costs, and institutional ownership</a>,\n",
              " <a href=\"https://digitalcommons.uri.edu/cba_facpubs/286\">Passive blockholders, informational efficiency of prices, and firm value</a>,\n",
              " <a href=\"https://digitalcommons.uri.edu/education_facpubs/95\">Access to Higher Education for Visually Impaired Students in Turkey: Disclosure, Inclusion, and Oppression of Two Pre-service Teachers</a>,\n",
              " <a href=\"https://digitalcommons.uri.edu/bio_facpubs/515\">Unknown to Known: Advancing Knowledge of Coral Gene Function</a>,\n",
              " <a href=\"https://digitalcommons.uri.edu/php_facpubs/1518\">Pharmacist-led telehealth disease management program for patients with diabetes and depression</a>,\n",
              " <a href=\"https://digitalcommons.uri.edu/education_facpubs/21\">Toward a Multifaceted Heuristic of Digital Reading to Inform Assessment, Research, Practice, and Policy</a>,\n",
              " <a href=\"https://digitalcommons.uri.edu/nfs_facpubs/84\">Development and Validation of the Short Healthy Eating Index Survey with a College Population to Assess Dietary Quality and Intake</a>,\n",
              " <a href=\"https://digitalcommons.uri.edu/math_facpubs/99\">Hereditarily non uniformly perfect non-autonomous Julia sets</a>,\n",
              " <a href=\"https://digitalcommons.uri.edu/oce_facpubs/239\">Inverse modeling of damping and soil–structure interface for monopiled offshore wind turbines</a>,\n",
              " <a href=\"https://digitalcommons.uri.edu/psy_facpubs/840\">Effects of processing positive memories on posttrauma mental health: A preliminary study in a non-clinical student sample</a>,\n",
              " <a href=\"https://digitalcommons.uri.edu/psy_facpubs/878\">Relation between PTSD symptom clusters and positive memory characteristics: A network perspective</a>,\n",
              " <a href=\"https://digitalcommons.uri.edu/psy_facpubs/846\">Examining relations of polytraumatization typologies with positive memory count and phenomenology</a>,\n",
              " <a href=\"https://digitalcommons.uri.edu/psy_facpubs/845\">Examination of the structural relations between posttraumatic stress disorder symptoms and reckless/self-destructive behaviors.</a>,\n",
              " <a href=\"https://digitalcommons.uri.edu/psy_facpubs/865\">Positive Internal Experiences in PTSD Interventions: A Critical Review</a>,\n",
              " <a href=\"https://digitalcommons.uri.edu/psy_facpubs/823\">Assessment of posttraumatic stress disorder's E2 criterion: Development, pilot testing, and validation of the posttrauma risky behaviors questionnaire</a>,\n",
              " <a href=\"https://digitalcommons.uri.edu/psy_facpubs/827\">Clusters of trauma types as measured by the Life Events Checklist for DSM–5.</a>,\n",
              " <a href=\"https://digitalcommons.uri.edu/psy_facpubs/828\">Comparison of latent typologies of posttraumatic stress disorder and depression symptoms across military personnel from India and the US</a>,\n",
              " <a href=\"https://digitalcommons.uri.edu/psy_facpubs/872\">Processing of Positive Memories Technique (PPMT) for Posttraumatic Stress Disorder: A Primer</a>,\n",
              " <a href=\"https://digitalcommons.uri.edu/php_facpubs/1120\">Mobilizing pharmacists to address the opioid crisis: A joint opinion of the ambulatory care and adult medicine practice and research networks of the American College of Clinical Pharmacy</a>,\n",
              " <a href=\"https://digitalcommons.uri.edu/cba_facpubs/185\">Research in nonprofit human resource management from 2015 to 2018: Trends, insights, and opportunities</a>,\n",
              " <a href=\"https://digitalcommons.uri.edu/nursing_facpubs/154\">Content evaluation of social determinants of health and cultural fluency to measure nurse practitioner application in clinical situations</a>,\n",
              " <a href=\"https://digitalcommons.uri.edu/nursing_facpubs/153\">Diagnostic readiness tests: Preparing nurse practitioner students for national certification examinations</a>,\n",
              " <a href=\"https://digitalcommons.uri.edu/nrs_facpubs/167\">Contrasting Effects of Climate Change on Seasonal Survival of a Hibernating Mammal</a>,\n",
              " <a href=\"https://digitalcommons.uri.edu/gsofacpubs/715\">Vascular Expression of Hemoglobin Alpha in Antarctic Icefish Supports Iron Limitation as Novel Evolutionary Driver</a>,\n",
              " <a href=\"https://digitalcommons.uri.edu/php_facpubs/172\">Delay in Antibiotic Administration Is Associated With Mortality Among Septic Shock Patients With Staphylococcus aureus Bacteremia</a>,\n",
              " <a href=\"https://digitalcommons.uri.edu/nursing_facpubs/165\">Treating individuals with eating disorders: Part 2</a>,\n",
              " <a href=\"https://digitalcommons.uri.edu/soc_facpubs/38\">Peer Influence in Initiation to Heroin Use</a>,\n",
              " <a href=\"https://digitalcommons.uri.edu/php_facpubs/1172\">Behavioral phenotype and sleep problems in SATB2-associated syndrome</a>,\n",
              " <a href=\"https://digitalcommons.uri.edu/bio_facpubs/249\">Delimiting Cryptic Morphological Variation among Human Malaria Vector Species using Convolutional Neural Networks</a>,\n",
              " <a href=\"https://digitalcommons.uri.edu/bio_facpubs/223\">Biological control of <em>Aedes</em> mosquito larvae with carnivorous aquatic plant, <em>Utricularia macrorhiza</em></a>,\n",
              " <a href=\"https://digitalcommons.uri.edu/cs_facpubs/22\">Delimiting cryptic morphological variation among human malaria vector species using convolutional neural networks</a>,\n",
              " <a href=\"https://digitalcommons.uri.edu/gsofacpubs/728\">Strategies for Grouping Per- and Polyfluoroalkyl Substances (PFAS) to Protect Human and Environmental Health</a>,\n",
              " <a href=\"https://digitalcommons.uri.edu/gsofacpubs/753\">The High Persistence of PFAS is Sufficient for Their Management as a Chemical Class</a>,\n",
              " <a href=\"https://digitalcommons.uri.edu/bio_facpubs/246\">Bioinformatics of Corals: Investigating Heterogeneous Omics Data from Coral Holobionts for Insight into Reef Health and Resillience</a>,\n",
              " <a href=\"https://digitalcommons.uri.edu/phys_facpubs/326\">A guide to LIGO–Virgo detector noise and extraction of transient gravitational-wave signals</a>,\n",
              " <a href=\"https://digitalcommons.uri.edu/phys_facpubs/325\">Model comparison from LIGO–Virgo data on GW170817's binary components and consequences for the merger remnant</a>,\n",
              " <a href=\"https://digitalcommons.uri.edu/phys_facpubs/335\">pHLIP ICG for Delineation of Tumors and Blood Flow during Fluorescence-Guided Surgery</a>,\n",
              " <a href=\"https://digitalcommons.uri.edu/cba_facpubs/212\">Institutional Aesthetics: Embodied Ways of Encountering, Evaluating, and Enacting Institutions</a>,\n",
              " <a href=\"https://digitalcommons.uri.edu/psy_facpubs/76\">Association between Hospital Admissions and Healthcare Provider Communication for Individuals with Sickle Cell Disease</a>,\n",
              " <a class=\"first\" href=\"https://digitalcommons.uri.edu/non_oap_facpubs/index.html\" title=\"First Page\">\n",
              " <i class=\"icon-chevron-left\"></i><i class=\"icon-chevron-left\"></i>\n",
              " </a>,\n",
              " <a class=\"prev\" href=\"https://digitalcommons.uri.edu/non_oap_facpubs/index.10.html\" title=\"Previous Page\">\n",
              " <i class=\"icon-chevron-left\"></i>\n",
              " </a>,\n",
              " <a href=\"https://digitalcommons.uri.edu/non_oap_facpubs/index.8.html\" title=\"Page 8\">\n",
              "           8\n",
              "         </a>,\n",
              " <a href=\"https://digitalcommons.uri.edu/non_oap_facpubs/index.9.html\" title=\"Page 9\">\n",
              "           9\n",
              "         </a>,\n",
              " <a href=\"https://digitalcommons.uri.edu/non_oap_facpubs/index.10.html\" title=\"Page 10\">\n",
              "           10\n",
              "         </a>,\n",
              " <a href=\"https://digitalcommons.uri.edu/non_oap_facpubs/index.11.html\" title=\"Page 11\">\n",
              "           11\n",
              "         </a>,\n",
              " <a href=\"https://digitalcommons.uri.edu/non_oap_facpubs/index.12.html\" title=\"Page 12\">\n",
              "           12\n",
              "         </a>,\n",
              " <a href=\"https://digitalcommons.uri.edu/non_oap_facpubs/index.13.html\" title=\"Page 13\">\n",
              "           13\n",
              "         </a>,\n",
              " <a href=\"https://digitalcommons.uri.edu/non_oap_facpubs/index.14.html\" title=\"Page 14\">\n",
              "           14\n",
              "         </a>,\n",
              " <a class=\"next\" href=\"https://digitalcommons.uri.edu/non_oap_facpubs/index.12.html\" title=\"Next Page\">\n",
              " <i class=\"icon-chevron-right\"></i>\n",
              " </a>,\n",
              " <a class=\"last\" href=\"https://digitalcommons.uri.edu/non_oap_facpubs/index.131.html\" title=\"Last Page\">\n",
              " <i class=\"icon-chevron-right\"></i><i class=\"icon-chevron-right\"></i>\n",
              " </a>]"
            ]
          },
          "execution_count": 569,
          "metadata": {},
          "output_type": "execute_result"
        }
      ],
      "source": [
        "d_info_links"
      ]
    },
    {
      "cell_type": "code",
      "execution_count": 284,
      "metadata": {
        "jupyter": {
          "outputs_hidden": false,
          "source_hidden": false
        },
        "nteract": {
          "transient": {
            "deleting": false
          }
        }
      },
      "outputs": [
        {
          "data": {
            "application/vnd.livy.statement-meta+json": {
              "execution_finish_time": "2023-04-10T13:29:58.240996Z",
              "execution_start_time": "2023-04-10T13:29:58.0740183Z",
              "livy_statement_state": "available",
              "parent_msg_id": "6e10abec-8147-4e04-82d8-03abe639cf88",
              "queued_time": "2023-04-10T13:29:56.48063Z",
              "session_id": "38",
              "session_start_time": null,
              "spark_jobs": null,
              "spark_pool": "smallSpark",
              "state": "finished",
              "statement_id": 284
            },
            "text/plain": [
              "StatementMeta(smallSpark, 38, 284, Finished, Available)"
            ]
          },
          "metadata": {},
          "output_type": "display_data"
        }
      ],
      "source": [
        "papers = [{'link':str(l).split('\\\"')[1]} for l in d_info_links]\n",
        "papers = papers[:-9] # Remove a few erroneous page links"
      ]
    },
    {
      "cell_type": "code",
      "execution_count": 285,
      "metadata": {
        "jupyter": {
          "outputs_hidden": false,
          "source_hidden": false
        },
        "nteract": {
          "transient": {
            "deleting": false
          }
        }
      },
      "outputs": [
        {
          "data": {
            "application/vnd.livy.statement-meta+json": {
              "execution_finish_time": "2023-04-10T13:29:58.5858459Z",
              "execution_start_time": "2023-04-10T13:29:58.3968539Z",
              "livy_statement_state": "available",
              "parent_msg_id": "50f9acaa-b44f-4de0-8433-0186bf0f7e16",
              "queued_time": "2023-04-10T13:29:56.6782321Z",
              "session_id": "38",
              "session_start_time": null,
              "spark_jobs": null,
              "spark_pool": "smallSpark",
              "state": "finished",
              "statement_id": 285
            },
            "text/plain": [
              "StatementMeta(smallSpark, 38, 285, Finished, Available)"
            ]
          },
          "metadata": {},
          "output_type": "display_data"
        },
        {
          "data": {
            "text/plain": [
              "[{'link': 'https://digitalcommons.uri.edu/gsofacpubs/728'},\n",
              " {'link': 'https://digitalcommons.uri.edu/gsofacpubs/753'},\n",
              " {'link': 'https://digitalcommons.uri.edu/bio_facpubs/246'},\n",
              " {'link': 'https://digitalcommons.uri.edu/phys_facpubs/326'},\n",
              " {'link': 'https://digitalcommons.uri.edu/phys_facpubs/325'},\n",
              " {'link': 'https://digitalcommons.uri.edu/phys_facpubs/335'},\n",
              " {'link': 'https://digitalcommons.uri.edu/cba_facpubs/212'},\n",
              " {'link': 'https://digitalcommons.uri.edu/psy_facpubs/76'},\n",
              " {'link': 'first'},\n",
              " {'link': 'prev'}]"
            ]
          },
          "execution_count": 573,
          "metadata": {},
          "output_type": "execute_result"
        }
      ],
      "source": [
        "papers[-10:]"
      ]
    },
    {
      "cell_type": "markdown",
      "metadata": {
        "nteract": {
          "transient": {
            "deleting": false
          }
        }
      },
      "source": [
        "Get each linked page and extract each desired data point from that page"
      ]
    },
    {
      "cell_type": "code",
      "execution_count": 286,
      "metadata": {
        "jupyter": {
          "outputs_hidden": false,
          "source_hidden": false
        },
        "nteract": {
          "transient": {
            "deleting": false
          }
        }
      },
      "outputs": [
        {
          "data": {
            "application/vnd.livy.statement-meta+json": {
              "execution_finish_time": "2023-04-10T13:30:44.1088339Z",
              "execution_start_time": "2023-04-10T13:29:58.8133191Z",
              "livy_statement_state": "available",
              "parent_msg_id": "8eadeb59-fc4f-42a5-be81-dfec72992d60",
              "queued_time": "2023-04-10T13:29:57.0166799Z",
              "session_id": "38",
              "session_start_time": null,
              "spark_jobs": null,
              "spark_pool": "smallSpark",
              "state": "finished",
              "statement_id": 286
            },
            "text/plain": [
              "StatementMeta(smallSpark, 38, 286, Finished, Available)"
            ]
          },
          "metadata": {},
          "output_type": "display_data"
        },
        {
          "name": "stdout",
          "output_type": "stream",
          "text": [
            "'NoneType' object has no attribute 'find_all'\n",
            "'NoneType' object has no attribute 'find_all'\n"
          ]
        }
      ],
      "source": [
        "db_entries = []\n",
        "\n",
        "for d in papers[:-2]:\n",
        "    try:\n",
        "        url = d['link']\n",
        "        _d_page = requests.get(url)\n",
        "        _d_soup = BeautifulSoup(_d_page.content, \"html.parser\")\n",
        "        _main_div = _d_soup.find(\"div\", id=\"alpha\")\n",
        "        # print(_main_div)\n",
        "        \n",
        "        researcher = str(_main_div.find_all(\"strong\")[0])[8:-9] # The researcher\n",
        "        who = researcher # NOTE: Add advisor?\n",
        "\n",
        "        _date_div = _d_soup.find(\"div\", id=\"publication_date\")\n",
        "        date_awarded = str(_date_div.find_all(\"p\")[0])[3:-4]\n",
        "        when = date_awarded\n",
        "\n",
        "        _title_div = _d_soup.find(\"div\", id=\"title\")\n",
        "        title = str(_title_div.find_all(\"p\")[0]).split('>')[2][:-3]\n",
        "        _abstract_div = _d_soup.find(\"div\", id=\"abstract\")\n",
        "        abstract_paras = _abstract_div.find_all(\"p\")\n",
        "        abstract_paras = [str(para)[3:-4] for para in abstract_paras] # Clean tags from data\n",
        "        # abstract_str = ''\n",
        "        for p in abstract_paras: # TODO: Each paragraph should become its own entry\n",
        "            # abstract_str += p + '\\n'\n",
        "            db_entries.append(\n",
        "                {\n",
        "                    'link': url,\n",
        "                    'who': who,\n",
        "                    'what': 'Research article title: ' + title + ', Paragraph from abstract: ' + p,\n",
        "                    'when': date_awarded\n",
        "                }\n",
        "            )\n",
        "\n",
        "\n",
        "\n",
        "    except Exception as e:\n",
        "        print(e)\n",
        "\n",
        "    # print(\"\\n\\nWhat: \", d['what'])\n",
        "    # print(\"\\n\\nWho: \", d['who'])\n",
        "    # print(\"\\n\\nWhen: \", date_awarded)\n"
      ]
    },
    {
      "cell_type": "code",
      "execution_count": 287,
      "metadata": {
        "jupyter": {
          "outputs_hidden": false,
          "source_hidden": false
        },
        "nteract": {
          "transient": {
            "deleting": false
          }
        }
      },
      "outputs": [
        {
          "data": {
            "application/vnd.livy.statement-meta+json": {
              "execution_finish_time": "2023-04-10T13:30:44.4369589Z",
              "execution_start_time": "2023-04-10T13:30:44.2647962Z",
              "livy_statement_state": "available",
              "parent_msg_id": "5e880500-db6b-4e61-9f74-faa497e9f337",
              "queued_time": "2023-04-10T13:29:57.1404958Z",
              "session_id": "38",
              "session_start_time": null,
              "spark_jobs": null,
              "spark_pool": "smallSpark",
              "state": "finished",
              "statement_id": 287
            },
            "text/plain": [
              "StatementMeta(smallSpark, 38, 287, Finished, Available)"
            ]
          },
          "metadata": {},
          "output_type": "display_data"
        },
        {
          "data": {
            "text/plain": [
              "126"
            ]
          },
          "execution_count": 577,
          "metadata": {},
          "output_type": "execute_result"
        }
      ],
      "source": [
        "len(db_entries)"
      ]
    },
    {
      "cell_type": "code",
      "execution_count": 288,
      "metadata": {
        "jupyter": {
          "outputs_hidden": false,
          "source_hidden": false
        },
        "nteract": {
          "transient": {
            "deleting": false
          }
        }
      },
      "outputs": [
        {
          "data": {
            "application/vnd.livy.statement-meta+json": {
              "execution_finish_time": "2023-04-10T13:30:44.9742536Z",
              "execution_start_time": "2023-04-10T13:30:44.8016695Z",
              "livy_statement_state": "available",
              "parent_msg_id": "3d183a71-c015-462f-a249-efcff4b21b1f",
              "queued_time": "2023-04-10T13:29:57.3346541Z",
              "session_id": "38",
              "session_start_time": null,
              "spark_jobs": null,
              "spark_pool": "smallSpark",
              "state": "finished",
              "statement_id": 288
            },
            "text/plain": [
              "StatementMeta(smallSpark, 38, 288, Finished, Available)"
            ]
          },
          "metadata": {},
          "output_type": "display_data"
        },
        {
          "data": {
            "text/plain": [
              "[{'link': 'https://digitalcommons.uri.edu/gsofacpubs/753',\n",
              "  'who': 'Ian T. Cousins',\n",
              "  'what': 'Research article title: The High Persistence of PFAS is Sufficient for Their Management as a Chemical Class, Paragraph from abstract: Per- and polyfluoroalkyl substances (PFAS) are a class of synthetic organic substances with diverse structures, properties, uses, bioaccumulation potentials and toxicities. Despite this high diversity, all PFAS are alike in that they contain perfluoroalkyl moieties that are extremely resistant to environmental and metabolic degradation. The vast majority of PFAS are therefore either non-degradable or transform ultimately into stable terminal transformation products (which are still PFAS). Under the European chemicals regulation this classifies PFAS as very persistent substances (vP). We argue that this high persistence is sufficient concern for their management as a chemical class, and for all “non-essential” uses of PFAS to be phased out. The continual release of highly persistent PFAS will result in increasing concentrations and increasing probabilities of the occurrence of known and unknown effects. Once adverse effects are identified, the exposure and associated effects will not be easily reversible. Reversing PFAS contamination will be technically challenging, energy intensive, and costly for society, as is evident in the efforts to remove PFAS from contaminated land and drinking water sources.',\n",
              "  'when': '10-2020'},\n",
              " {'link': 'https://digitalcommons.uri.edu/bio_facpubs/246',\n",
              "  'who': 'Lenore J. Cowen',\n",
              "  'what': 'Research article title: Bioinformatics of Corals: Investigating Heterogeneous Omics Data from Coral Holobionts for Insight into Reef Health and Resillience, Paragraph from abstract: Coral reefs are home to over 2 million species and provide habitat for roughly 25% of all marine animals, but they are being severely threatened by pollution and climate change. A large amount of genomic, transcriptomic and other -omics data from different species of reef building corals, the uni-cellular dinoagellates, plus the coral microbiome (where corals have possibly the most complex microbiome yet discovered, consisting of over 20,000 different species), is becoming increasingly available for corals. This new data present an opportunity for bioinformatics researchers and computational biologists to contribute to a timely, compelling, and urgent investigation of critical factors that influence reef health and resilience. This paper summarizes the content of the Bioinformatics of Corals workshop, that is being held as part of PSB 2021. It is particularly relevant for this workshop to occur at PSB, given the abundance of and reliance on coral reefs in Hawaii and the conference’s traditional association with the region.',\n",
              "  'when': '11-2020'},\n",
              " {'link': 'https://digitalcommons.uri.edu/phys_facpubs/326',\n",
              "  'who': 'Robert Coyne',\n",
              "  'what': 'Research article title: A guide to LIGO–Virgo detector noise and extraction of transient gravitational-wave signals, Paragraph from abstract: The LIGO Scientific Collaboration and the Virgo Collaboration have cataloged eleven confidently detected gravitational-wave events during the first two observing runs of the advanced detector era. All eleven events were consistent with being from well-modeled mergers between compact stellar-mass objects: black holes or neutron stars. The data around the time of each of these events have been made publicly available through the gravitational-wave open science center. The entirety of the gravitational-wave strain data from the first and second observing runs have also now been made publicly available. There is considerable interest among the broad scientific community in understanding the data and methods used in the analyses. In this paper, we provide an overview of the detector noise properties and the data analysis techniques used to detect gravitational-wave signals and infer the source properties. We describe some of the checks that are performed to validate the analyses and results from the observations of gravitational-wave events. We also address concerns that have been raised about various properties of LIGO–Virgo detector noise and the correctness of our analyses as applied to the resulting data.',\n",
              "  'when': '2-6-2020'},\n",
              " {'link': 'https://digitalcommons.uri.edu/phys_facpubs/325',\n",
              "  'who': 'Robert Coyne',\n",
              "  'what': \"Research article title: Model comparison from LIGO–Virgo data on GW170817's binary components and consequences for the merger remnant, Paragraph from abstract: GW170817 is the very first observation of gravitational waves originating from the coalescence of two compact objects in the mass range of neutron stars, accompanied by electromagnetic counterparts, and offers an opportunity to directly probe the internal structure of neutron stars. We perform Bayesian model selection on a wide range of theoretical predictions for the neutron star equation of state. For the binary neutron star hypothesis, we find that we cannot rule out the majority of theoretical models considered. In addition, the gravitational-wave data alone does not rule out the possibility that one or both objects were low-mass black holes. We discuss the possible outcomes in the case of a binary neutron star merger, finding that all scenarios from prompt collapse to long-lived or even stable remnants are possible. For long-lived remnants, we place an upper limit of 1.9\\u2009kHz on the rotation rate. If a black hole was formed any time after merger and the coalescing stars were slowly rotating, then the maximum baryonic mass of non-rotating neutron stars is at most , and three equations of state considered here can be ruled out. We obtain a tighter limit of  for the case that the merger results in a hypermassive neutron star.\",\n",
              "  'when': '1-16-2020'},\n",
              " {'link': 'https://digitalcommons.uri.edu/phys_facpubs/335',\n",
              "  'who': 'Troy M. Crawford',\n",
              "  'what': 'Research article title: pHLIP ICG for Delineation of Tumors and Blood Flow during Fluorescence-Guided Surgery, Paragraph from abstract: Fluorescence imaging has seen enduring use in blood flow visualization and is now finding a new range of applications in image-guided surgery. In this paper, we report a translational study of a new fluorescent agent for use in surgery, pHLIP ICG, where ICG (indocyanine green) is a surgical fluorescent dye used widely for imaging blood flow. We studied pHLIP ICG interaction with the cell membrane lipid bilayer, the pharmacology and toxicology in vitro and in vivo (mice and dogs), and the biodistribution and clearance of pHLIP ICG in mice. The pHLIP ICG tumor targeting and imaging efficacy studies were carried out in several murine and human mouse tumor models. Blood vessels were imaged in mice and pigs. Clinical Stryker imaging instruments for endoscopy and open surgery were used in the study. Intravenously administered pHLIP ICG exhibits a multi-hour circulation half-life, offering protracted delineation of vasculature. As it clears from the blood, pHLIP ICG targets tumors and tumor stroma, marking them for surgical removal. pHLIP ICG is non-toxic, marks blood flow for hours after injection, and effectively delineates tumors for improved resection on the day after administration.',\n",
              "  'when': '2020'},\n",
              " {'link': 'https://digitalcommons.uri.edu/cba_facpubs/212',\n",
              "  'who': 'W. E.Douglas Creed',\n",
              "  'what': 'Research article title: , Paragraph from abstract: The cognitive turn in institutional theory has led to the systematic neglect of people’s sensory capacities. In this paper we offer a cross-level theory of the role in institutional processes of sensory and evaluative forms of knowledge. Called here the aesthetic mode, this way of knowing combines humans’ innate sensory capacity to engage the world with their learned capacity to evaluate what they encounter. We argue that people evaluate the world’s natural, social, and spiritual phenomena through the lenses of a personal aesthetic, each person’s distinct internalization of the institutional aesthetic codes of the communities in which they are in embedded. A personal aesthetic informs and animates people’s internal conversations as they evaluate the social arrangements they encounter and deliberate over how they should participate in the institutional processes of maintaining, disrupting, or creating social arrangements. Attending to people’s aesthetic ways of knowing positions us to better understand when, why, and how people deliberate about institutional values and arrangements and choose to engage in purposive institutional work. It also offers a way of conceptualizing and examining the reflexivity said to be at the heart of embedded agency. We discuss the implications for understanding of institutional work, institutional biography, and of how people experience institutional disruption and re-creation.',\n",
              "  'when': '3-1-2020'},\n",
              " {'link': 'https://digitalcommons.uri.edu/psy_facpubs/76',\n",
              "  'who': 'Robert M. Cronin',\n",
              "  'what': 'Research article title: Association between Hospital Admissions and Healthcare Provider Communication for Individuals with Sickle Cell Disease, Paragraph from abstract: <strong>Objective</strong>: To test the hypothesis that caregivers’ or adult participants’ low ratings of provider communication are associated with more hospital admissions among adults and children with sickle cell disease (SCD), respectively. Secondarily, we determined whether there was an association between the caregivers’ or participants’ health literacy and rating of providers’ communication.',\n",
              "  'when': '6-2020'},\n",
              " {'link': 'https://digitalcommons.uri.edu/psy_facpubs/76',\n",
              "  'who': 'Robert M. Cronin',\n",
              "  'what': 'Research article title: Association between Hospital Admissions and Healthcare Provider Communication for Individuals with Sickle Cell Disease, Paragraph from abstract: <strong>Methods</strong>: Primary data were collected from participants through surveys between 2014 and 2016, across six sickle cell centers throughout the U.S. In this cross-sectional cohort study, 211 adults with SCD and 331 caregivers of children with SCD completed surveys evaluating provider communication using the Consumer Assessment of Healthcare Providers and Systems (CAHPS), healthcare utilization, health literacy, and other sociodemographic and behavioral variables. Analyses included descriptive statistics, bivariate analyses, and logistic regression.',\n",
              "  'when': '6-2020'},\n",
              " {'link': 'https://digitalcommons.uri.edu/psy_facpubs/76',\n",
              "  'who': 'Robert M. Cronin',\n",
              "  'what': 'Research article title: Association between Hospital Admissions and Healthcare Provider Communication for Individuals with Sickle Cell Disease, Paragraph from abstract: <strong>Results</strong>: Participants with better ratings of provider communication were less likely to be hospitalized (odds ratio (OR) = 0.54, 95% confidence interval (CI) = [0.35, 0.83]). Positive ratings of provider communication were associated with fewer readmissions for children (OR = 0.23, 95% CI = [0.09, 0.57]). Participants with better ratings of provider communication were less likely to rate their health literacy as lower (regression coefficient (B) = −0.28, 95% CI = [−0.46, −0.10]).',\n",
              "  'when': '6-2020'},\n",
              " {'link': 'https://digitalcommons.uri.edu/psy_facpubs/76',\n",
              "  'who': 'Robert M. Cronin',\n",
              "  'what': 'Research article title: Association between Hospital Admissions and Healthcare Provider Communication for Individuals with Sickle Cell Disease, Paragraph from abstract: <strong>Conclusions</strong>: Low ratings of provider communication were associated with more hospitalizations and readmissions in SCD, suggesting the need for interventions targeted at improving patient-provider communication which could decrease hospitalizations for this population.',\n",
              "  'when': '6-2020'}]"
            ]
          },
          "execution_count": 579,
          "metadata": {},
          "output_type": "execute_result"
        }
      ],
      "source": [
        "db_entries[-10:]"
      ]
    },
    {
      "cell_type": "code",
      "execution_count": 289,
      "metadata": {
        "jupyter": {
          "outputs_hidden": false,
          "source_hidden": false
        },
        "nteract": {
          "transient": {
            "deleting": false
          }
        }
      },
      "outputs": [
        {
          "data": {
            "application/vnd.livy.statement-meta+json": {
              "execution_finish_time": "2023-04-10T13:30:45.2993733Z",
              "execution_start_time": "2023-04-10T13:30:45.1187063Z",
              "livy_statement_state": "available",
              "parent_msg_id": "aec82126-fc35-44a6-8fc7-f19f810da13d",
              "queued_time": "2023-04-10T13:29:57.5957986Z",
              "session_id": "38",
              "session_start_time": null,
              "spark_jobs": null,
              "spark_pool": "smallSpark",
              "state": "finished",
              "statement_id": 289
            },
            "text/plain": [
              "StatementMeta(smallSpark, 38, 289, Finished, Available)"
            ]
          },
          "metadata": {},
          "output_type": "display_data"
        }
      ],
      "source": [
        "d_df = pd.DataFrame.from_dict(db_entries).dropna()"
      ]
    },
    {
      "cell_type": "code",
      "execution_count": 290,
      "metadata": {
        "jupyter": {
          "outputs_hidden": false,
          "source_hidden": false
        },
        "nteract": {
          "transient": {
            "deleting": false
          }
        }
      },
      "outputs": [
        {
          "data": {
            "application/vnd.livy.statement-meta+json": {
              "execution_finish_time": "2023-04-10T13:30:45.6507874Z",
              "execution_start_time": "2023-04-10T13:30:45.4504126Z",
              "livy_statement_state": "available",
              "parent_msg_id": "b5cfef74-8350-4cd2-a882-285fadcf23ee",
              "queued_time": "2023-04-10T13:29:57.9607801Z",
              "session_id": "38",
              "session_start_time": null,
              "spark_jobs": null,
              "spark_pool": "smallSpark",
              "state": "finished",
              "statement_id": 290
            },
            "text/plain": [
              "StatementMeta(smallSpark, 38, 290, Finished, Available)"
            ]
          },
          "metadata": {},
          "output_type": "display_data"
        },
        {
          "data": {
            "text/html": [
              "<div>\n",
              "<style scoped>\n",
              "    .dataframe tbody tr th:only-of-type {\n",
              "        vertical-align: middle;\n",
              "    }\n",
              "\n",
              "    .dataframe tbody tr th {\n",
              "        vertical-align: top;\n",
              "    }\n",
              "\n",
              "    .dataframe thead th {\n",
              "        text-align: right;\n",
              "    }\n",
              "</style>\n",
              "<table border=\"1\" class=\"dataframe\">\n",
              "  <thead>\n",
              "    <tr style=\"text-align: right;\">\n",
              "      <th></th>\n",
              "      <th>link</th>\n",
              "      <th>who</th>\n",
              "      <th>what</th>\n",
              "      <th>when</th>\n",
              "    </tr>\n",
              "  </thead>\n",
              "  <tbody>\n",
              "    <tr>\n",
              "      <th>0</th>\n",
              "      <td>https://digitalcommons.uri.edu/bps_facpubs/344</td>\n",
              "      <td>Abdullatif Bin Muhsinah</td>\n",
              "      <td>Research article title: , Paragraph from abstr...</td>\n",
              "      <td>8-6-2020</td>\n",
              "    </tr>\n",
              "    <tr>\n",
              "      <th>1</th>\n",
              "      <td>https://digitalcommons.uri.edu/nursing_facpubs/87</td>\n",
              "      <td>Katherine Bliss</td>\n",
              "      <td>Research article title: , Paragraph from abstr...</td>\n",
              "      <td>7-1-2020</td>\n",
              "    </tr>\n",
              "    <tr>\n",
              "      <th>2</th>\n",
              "      <td>https://digitalcommons.uri.edu/psy_facpubs/67</td>\n",
              "      <td>Susan Boatright-Horowitz</td>\n",
              "      <td>Research article title: Avian Bornaviral Gangl...</td>\n",
              "      <td>1-19-2020</td>\n",
              "    </tr>\n",
              "    <tr>\n",
              "      <th>3</th>\n",
              "      <td>https://digitalcommons.uri.edu/cmb_facpubs/181</td>\n",
              "      <td>Abigail B. Bockus</td>\n",
              "      <td>Research article title: , Paragraph from abstr...</td>\n",
              "      <td>4-1-2020</td>\n",
              "    </tr>\n",
              "    <tr>\n",
              "      <th>4</th>\n",
              "      <td>https://digitalcommons.uri.edu/gsofacpubs/705</td>\n",
              "      <td>Luis M. Bolanos</td>\n",
              "      <td>Research article title: Small phytoplankton do...</td>\n",
              "      <td>3-30-2020</td>\n",
              "    </tr>\n",
              "    <tr>\n",
              "      <th>...</th>\n",
              "      <td>...</td>\n",
              "      <td>...</td>\n",
              "      <td>...</td>\n",
              "      <td>...</td>\n",
              "    </tr>\n",
              "    <tr>\n",
              "      <th>121</th>\n",
              "      <td>https://digitalcommons.uri.edu/cba_facpubs/212</td>\n",
              "      <td>W. E.Douglas Creed</td>\n",
              "      <td>Research article title: , Paragraph from abstr...</td>\n",
              "      <td>3-1-2020</td>\n",
              "    </tr>\n",
              "    <tr>\n",
              "      <th>122</th>\n",
              "      <td>https://digitalcommons.uri.edu/psy_facpubs/76</td>\n",
              "      <td>Robert M. Cronin</td>\n",
              "      <td>Research article title: Association between Ho...</td>\n",
              "      <td>6-2020</td>\n",
              "    </tr>\n",
              "    <tr>\n",
              "      <th>123</th>\n",
              "      <td>https://digitalcommons.uri.edu/psy_facpubs/76</td>\n",
              "      <td>Robert M. Cronin</td>\n",
              "      <td>Research article title: Association between Ho...</td>\n",
              "      <td>6-2020</td>\n",
              "    </tr>\n",
              "    <tr>\n",
              "      <th>124</th>\n",
              "      <td>https://digitalcommons.uri.edu/psy_facpubs/76</td>\n",
              "      <td>Robert M. Cronin</td>\n",
              "      <td>Research article title: Association between Ho...</td>\n",
              "      <td>6-2020</td>\n",
              "    </tr>\n",
              "    <tr>\n",
              "      <th>125</th>\n",
              "      <td>https://digitalcommons.uri.edu/psy_facpubs/76</td>\n",
              "      <td>Robert M. Cronin</td>\n",
              "      <td>Research article title: Association between Ho...</td>\n",
              "      <td>6-2020</td>\n",
              "    </tr>\n",
              "  </tbody>\n",
              "</table>\n",
              "<p>126 rows × 4 columns</p>\n",
              "</div>"
            ],
            "text/plain": [
              "                                                  link  \\\n",
              "0       https://digitalcommons.uri.edu/bps_facpubs/344   \n",
              "1    https://digitalcommons.uri.edu/nursing_facpubs/87   \n",
              "2        https://digitalcommons.uri.edu/psy_facpubs/67   \n",
              "3       https://digitalcommons.uri.edu/cmb_facpubs/181   \n",
              "4        https://digitalcommons.uri.edu/gsofacpubs/705   \n",
              "..                                                 ...   \n",
              "121     https://digitalcommons.uri.edu/cba_facpubs/212   \n",
              "122      https://digitalcommons.uri.edu/psy_facpubs/76   \n",
              "123      https://digitalcommons.uri.edu/psy_facpubs/76   \n",
              "124      https://digitalcommons.uri.edu/psy_facpubs/76   \n",
              "125      https://digitalcommons.uri.edu/psy_facpubs/76   \n",
              "\n",
              "                          who  \\\n",
              "0     Abdullatif Bin Muhsinah   \n",
              "1             Katherine Bliss   \n",
              "2    Susan Boatright-Horowitz   \n",
              "3           Abigail B. Bockus   \n",
              "4             Luis M. Bolanos   \n",
              "..                        ...   \n",
              "121        W. E.Douglas Creed   \n",
              "122          Robert M. Cronin   \n",
              "123          Robert M. Cronin   \n",
              "124          Robert M. Cronin   \n",
              "125          Robert M. Cronin   \n",
              "\n",
              "                                                  what       when  \n",
              "0    Research article title: , Paragraph from abstr...   8-6-2020  \n",
              "1    Research article title: , Paragraph from abstr...   7-1-2020  \n",
              "2    Research article title: Avian Bornaviral Gangl...  1-19-2020  \n",
              "3    Research article title: , Paragraph from abstr...   4-1-2020  \n",
              "4    Research article title: Small phytoplankton do...  3-30-2020  \n",
              "..                                                 ...        ...  \n",
              "121  Research article title: , Paragraph from abstr...   3-1-2020  \n",
              "122  Research article title: Association between Ho...     6-2020  \n",
              "123  Research article title: Association between Ho...     6-2020  \n",
              "124  Research article title: Association between Ho...     6-2020  \n",
              "125  Research article title: Association between Ho...     6-2020  \n",
              "\n",
              "[126 rows x 4 columns]"
            ]
          },
          "execution_count": 583,
          "metadata": {},
          "output_type": "execute_result"
        }
      ],
      "source": [
        "d_df"
      ]
    },
    {
      "cell_type": "code",
      "execution_count": 291,
      "metadata": {
        "jupyter": {
          "outputs_hidden": false,
          "source_hidden": false
        },
        "nteract": {
          "transient": {
            "deleting": false
          }
        }
      },
      "outputs": [
        {
          "data": {
            "application/vnd.livy.statement-meta+json": {
              "execution_finish_time": "2023-04-10T13:30:46.0023637Z",
              "execution_start_time": "2023-04-10T13:30:45.8189304Z",
              "livy_statement_state": "available",
              "parent_msg_id": "d863ed6f-8e46-4c7d-9910-e08cf32d44cb",
              "queued_time": "2023-04-10T13:29:58.3612192Z",
              "session_id": "38",
              "session_start_time": null,
              "spark_jobs": null,
              "spark_pool": "smallSpark",
              "state": "finished",
              "statement_id": 291
            },
            "text/plain": [
              "StatementMeta(smallSpark, 38, 291, Finished, Available)"
            ]
          },
          "metadata": {},
          "output_type": "display_data"
        },
        {
          "data": {
            "text/plain": [
              "'abfss://iifs@iidatalake.dfs.core.windows.net/Exploratory/URI_Resources/OpenAcademicResources_non_oap_facpubs_index_11_html.csv'"
            ]
          },
          "execution_count": 585,
          "metadata": {},
          "output_type": "execute_result"
        }
      ],
      "source": [
        "file_name = os.getenv(\"FILE_PATH\")\n",
        "file_name"
      ]
    },
    {
      "cell_type": "code",
      "execution_count": 292,
      "metadata": {
        "jupyter": {
          "outputs_hidden": false,
          "source_hidden": false
        },
        "nteract": {
          "transient": {
            "deleting": false
          }
        }
      },
      "outputs": [
        {
          "data": {
            "application/vnd.livy.statement-meta+json": {
              "execution_finish_time": "2023-04-10T13:30:46.4446661Z",
              "execution_start_time": "2023-04-10T13:30:46.2646365Z",
              "livy_statement_state": "available",
              "parent_msg_id": "23ff7196-90fd-4b83-abb2-13c1eefbc65f",
              "queued_time": "2023-04-10T13:29:59.119295Z",
              "session_id": "38",
              "session_start_time": null,
              "spark_jobs": null,
              "spark_pool": "smallSpark",
              "state": "finished",
              "statement_id": 292
            },
            "text/plain": [
              "StatementMeta(smallSpark, 38, 292, Finished, Available)"
            ]
          },
          "metadata": {},
          "output_type": "display_data"
        }
      ],
      "source": [
        "d_df.to_csv(file_name)"
      ]
    },
    {
      "cell_type": "code",
      "execution_count": null,
      "metadata": {
        "jupyter": {
          "outputs_hidden": false,
          "source_hidden": false
        },
        "nteract": {
          "transient": {
            "deleting": false
          }
        }
      },
      "outputs": [],
      "source": []
    }
  ],
  "metadata": {
    "description": null,
    "kernelspec": {
      "display_name": "Synapse PySpark",
      "name": "synapse_pyspark"
    },
    "language_info": {
      "name": "python"
    },
    "save_output": true,
    "synapse_widget": {
      "state": {},
      "version": "0.1"
    }
  },
  "nbformat": 4,
  "nbformat_minor": 2
}
