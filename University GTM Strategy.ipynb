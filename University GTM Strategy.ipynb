{
  "cells": [
    {
      "cell_type": "code",
      "execution_count": 1,
      "metadata": {},
      "outputs": [
        {
          "data": {
            "application/vnd.livy.statement-meta+json": {
              "execution_finish_time": "2023-08-22T00:32:38.8595863Z",
              "execution_start_time": "2023-08-22T00:32:31.8817322Z",
              "livy_statement_state": "available",
              "parent_msg_id": "a5e6a08f-70c3-49b6-a9cd-644998ac5b4a",
              "queued_time": "2023-08-22T00:28:44.6281035Z",
              "session_id": "2",
              "session_start_time": "2023-08-22T00:28:44.683719Z",
              "spark_jobs": null,
              "spark_pool": "smallSpark",
              "state": "finished",
              "statement_id": 2
            },
            "text/plain": [
              "StatementMeta(smallSpark, 2, 2, Finished, Available)"
            ]
          },
          "metadata": {},
          "output_type": "display_data"
        },
        {
          "name": "stdout",
          "output_type": "stream",
          "text": [
            "Requirement already satisfied: requests in /home/trusted-service-user/cluster-env/env/lib/python3.8/site-packages (2.25.1)\n",
            "Collecting openai\n",
            "  Downloading openai-0.27.8-py3-none-any.whl (73 kB)\n",
            "\u001b[2K     \u001b[90m━━━━━━━━━━━━━━━━━━━━━━━━━━━━━━━━━━━━━━━━\u001b[0m \u001b[32m73.6/73.6 kB\u001b[0m \u001b[31m7.5 MB/s\u001b[0m eta \u001b[36m0:00:00\u001b[0m\n",
            "\u001b[?25hRequirement already satisfied: chardet<5,>=3.0.2 in /home/trusted-service-user/cluster-env/env/lib/python3.8/site-packages (from requests) (4.0.0)\n",
            "Requirement already satisfied: urllib3<1.27,>=1.21.1 in /home/trusted-service-user/cluster-env/env/lib/python3.8/site-packages (from requests) (1.26.4)\n",
            "Requirement already satisfied: certifi>=2017.4.17 in /home/trusted-service-user/cluster-env/env/lib/python3.8/site-packages (from requests) (2022.12.7)\n",
            "Requirement already satisfied: idna<3,>=2.5 in /home/trusted-service-user/cluster-env/env/lib/python3.8/site-packages (from requests) (2.10)\n",
            "Requirement already satisfied: aiohttp in /home/trusted-service-user/cluster-env/env/lib/python3.8/site-packages (from openai) (3.7.4.post0)\n",
            "Requirement already satisfied: tqdm in /home/trusted-service-user/cluster-env/env/lib/python3.8/site-packages (from openai) (4.61.2)\n",
            "Requirement already satisfied: multidict<7.0,>=4.5 in /home/trusted-service-user/cluster-env/env/lib/python3.8/site-packages (from aiohttp->openai) (5.1.0)\n",
            "Requirement already satisfied: typing-extensions>=3.6.5 in /home/trusted-service-user/cluster-env/env/lib/python3.8/site-packages (from aiohttp->openai) (4.5.0)\n",
            "Requirement already satisfied: async-timeout<4.0,>=3.0 in /home/trusted-service-user/cluster-env/env/lib/python3.8/site-packages (from aiohttp->openai) (3.0.1)\n",
            "Requirement already satisfied: attrs>=17.3.0 in /home/trusted-service-user/cluster-env/env/lib/python3.8/site-packages (from aiohttp->openai) (21.2.0)\n",
            "Requirement already satisfied: yarl<2.0,>=1.0 in /home/trusted-service-user/cluster-env/env/lib/python3.8/site-packages (from aiohttp->openai) (1.6.3)\n",
            "Installing collected packages: openai\n",
            "Successfully installed openai-0.27.8\n"
          ]
        }
      ],
      "source": [
        "!pip install requests openai"
      ]
    },
    {
      "cell_type": "code",
      "execution_count": 2,
      "metadata": {
        "jupyter": {
          "outputs_hidden": false,
          "source_hidden": false
        },
        "nteract": {
          "transient": {
            "deleting": false
          }
        }
      },
      "outputs": [
        {
          "data": {
            "application/vnd.livy.statement-meta+json": {
              "execution_finish_time": "2023-08-22T00:32:40.1416982Z",
              "execution_start_time": "2023-08-22T00:32:39.0241118Z",
              "livy_statement_state": "available",
              "parent_msg_id": "22d55d2b-d452-45f6-9b65-baeef96fd737",
              "queued_time": "2023-08-22T00:28:44.6306128Z",
              "session_id": "2",
              "session_start_time": null,
              "spark_jobs": null,
              "spark_pool": "smallSpark",
              "state": "finished",
              "statement_id": 3
            },
            "text/plain": [
              "StatementMeta(smallSpark, 2, 3, Finished, Available)"
            ]
          },
          "metadata": {},
          "output_type": "display_data"
        }
      ],
      "source": [
        "import json\n",
        "import os \n",
        "from pprint import pprint\n",
        "import requests\n",
        "import openai\n",
        "\n",
        "'''\n",
        "This sample makes a call to the Bing Web Search API with a query and returns relevant web search.\n",
        "Documentation: https://docs.microsoft.com/en-us/bing/search-apis/bing-web-search/overview\n",
        "'''\n",
        "\n",
        "\n",
        "def search_bing(query):\n",
        "    \"\"\"\n",
        "    Takes in a search query and returns information from Bing search results.\n",
        "    \"\"\"\n",
        "    # Add your Bing Search V7 subscription key and endpoint to your environment variables.\n",
        "    subscription_key = os.environ['BING_SEARCH_V7_SUBSCRIPTION_KEY']\n",
        "    # endpoint = \"https://api.bing.microsoft.com/\" + \"/bing/v7.0/search\"\n",
        "    search_url = \"https://api.bing.microsoft.com/v7.0/search\"\n",
        "\n",
        "    # Query term(s) to search for. \n",
        "    # Construct a request\n",
        "    mkt = 'en-US'\n",
        "    params = { 'q': query, 'mkt': mkt }\n",
        "    headers = { 'Ocp-Apim-Subscription-Key': subscription_key }\n",
        "\n",
        "    # Call the API\n",
        "    try:\n",
        "        response = requests.get(search_url, headers=headers, params=params)\n",
        "        response.raise_for_status()\n",
        "\n",
        "        # print(\"\"\"\n",
        "        # Headers:\n",
        "        # \"\"\")\n",
        "        # print(response.headers)\n",
        "\n",
        "        # print(\"\"\"\n",
        "        # JSON Response:\n",
        "        # \"\"\")\n",
        "        # print(response.json())\n",
        "\n",
        "        response = response.json()\n",
        "        # Parse the JSON data\n",
        "        data = response # json.loads(response)\n",
        "\n",
        "        # Extract the list of documents\n",
        "        documents = data[\"webPages\"][\"value\"]\n",
        "\n",
        "        # Print the list of documents\n",
        "        \n",
        "        print(\"Relevant documents from Bing:\\n\\n\")\n",
        "        print([{'name': doc['name'], 'snippet': doc['snippet']} for doc in documents])\n",
        "        return documents\n",
        "    except Exception as ex:\n",
        "        raise ex\n",
        "    "
      ]
    },
    {
      "cell_type": "code",
      "execution_count": 3,
      "metadata": {
        "jupyter": {
          "outputs_hidden": false,
          "source_hidden": false
        },
        "nteract": {
          "transient": {
            "deleting": false
          }
        }
      },
      "outputs": [
        {
          "data": {
            "application/vnd.livy.statement-meta+json": {
              "execution_finish_time": "2023-08-22T00:32:40.8082603Z",
              "execution_start_time": "2023-08-22T00:32:40.2764837Z",
              "livy_statement_state": "available",
              "parent_msg_id": "fbe16eaa-d4e7-45f2-a23a-ac59b605f47e",
              "queued_time": "2023-08-22T00:28:44.6314526Z",
              "session_id": "2",
              "session_start_time": null,
              "spark_jobs": null,
              "spark_pool": "smallSpark",
              "state": "finished",
              "statement_id": 4
            },
            "text/plain": [
              "StatementMeta(smallSpark, 2, 4, Finished, Available)"
            ]
          },
          "metadata": {},
          "output_type": "display_data"
        },
        {
          "name": "stdout",
          "output_type": "stream",
          "text": [
            "Relevant documents from Bing:\n",
            "\n",
            "\n",
            "[{'name': 'O365 – Information Technology Services - University of Rhode Island', 'snippet': 'O365 The Microsoft Portal is an online platform that features URI supported applications, extra online storage and cloud-connected features. URI has full access to the Microsoft tool suite (Word, Excel, etc.) for all active faculty, staff and students at URI. The Portal also includes external applications such as Zoom, Webex, Brightspace, etc.'}, {'name': 'The URI Business Engagement Center - University of Rhode Island', 'snippet': 'Your Portal to a URI Partnership. The University of Rhode Island (URI) Business Engagement Center (BEC) is the “front door” for industry to connect with the vast resources that exist at the University. Companies – from entrepreneurial startups to major corporations – use the services of the BEC to sponsor research opportunities, access ...'}, {'name': 'Azure SSO – Information Technology Services - University of Rhode Island', 'snippet': 'Support Team ITS Security The Azure service provides Single Sign-On to multiple applications and provides integration to Office365. Azure SSO The URI Single Sign-On service provides URI staff with convenient, secure access to multiple URI applications with a single username and password and multi-factor authentication.'}, {'name': 'Information Technology Services - University of Rhode Island', 'snippet': 'Welcome to URI and IT@URI! Here are the key resources and tools to help you get started on the right foot. For Students'}, {'name': 'Microsoft Portal Apps Explained - University of Rhode Island', 'snippet': 'Microsoft Word is a popular word-processing program used primarily for creating documents such as reports, letters, brochures, learning activities, tests, quizzes and students’ homework assignments. There are many simple but useful features available in Microsoft Word to make it easier for study and work.'}, {'name': 'Microsoft Office 365 now free for all URI students', 'snippet': 'As of Jan. 23, 2019, University of Rhode Island students and faculty now have free access to Microsoft Office 365 to help students prepare for future jobs. With this product, students can use 20 Microsoft applications on up to five different devices at no cost.'}, {'name': 'Microsoft teams with Rhode Island to bring computer science ... - GeekWire', 'snippet': 'Rhode Island Gov. Gina Raimondo. A unique partnership between Microsoft and Rhode Island aims to bring computer science classes to every high school in the state by the end of next year — a new ...'}, {'name': 'Windows - Installing Office 365 - University of Rhode Island', 'snippet': \"The University of Rhode Island purchased the license for Microsoft Office, in addition to all of its featured applications. The downloadable Office applications include Access, Excel, OneNote, Outlook, PowerPoint, Publisher, Skype for Business, Teams, and Word. Here's a step-by-step guide on how to install Office 365 on your Windows device.\"}, {'name': 'Getting Started – Students – Information Technology Services', 'snippet': 'Welcome to URI! To get started, there are a few key steps to complete – you need to establish your e-Campus account, then setup your login and finally log in to the portal to make sure everything is working as expected. Register with e-Campus The very first thing to do once you receive your URI ID number is to register for an e-Campus account.'}, {'name': 'Giving students in Rhode Island a chance to create the future', 'snippet': 'Thanks to the partners we have assembled for this initiative, I know we can achieve this goal.” Governor Raimondo’s CS4RI consortium is joining Microsoft’s TEALS program alongside the University of Rhode Island and Brown University. Through this collaboration, the state of Rhode Island is looking to bridge the diversity skills gap and ...'}]\n"
          ]
        }
      ],
      "source": [
        "university_name = 'University of Rhode Island'\n",
        "search_results = search_bing(f\"{ university_name } + Microsoft + partner\")"
      ]
    },
    {
      "cell_type": "code",
      "execution_count": 4,
      "metadata": {
        "jupyter": {
          "outputs_hidden": false,
          "source_hidden": false
        },
        "nteract": {
          "transient": {
            "deleting": false
          }
        }
      },
      "outputs": [
        {
          "data": {
            "application/vnd.livy.statement-meta+json": {
              "execution_finish_time": "2023-08-22T00:32:41.1023539Z",
              "execution_start_time": "2023-08-22T00:32:40.9507003Z",
              "livy_statement_state": "available",
              "parent_msg_id": "c1727884-9eef-4f45-8ce2-f724d42db9bb",
              "queued_time": "2023-08-22T00:28:44.6338861Z",
              "session_id": "2",
              "session_start_time": null,
              "spark_jobs": null,
              "spark_pool": "smallSpark",
              "state": "finished",
              "statement_id": 5
            },
            "text/plain": [
              "StatementMeta(smallSpark, 2, 5, Finished, Available)"
            ]
          },
          "metadata": {},
          "output_type": "display_data"
        },
        {
          "data": {
            "text/plain": [
              "['O365 – Information Technology Services - University of Rhode Island',\n",
              " 'The URI Business Engagement Center - University of Rhode Island',\n",
              " 'Azure SSO – Information Technology Services - University of Rhode Island',\n",
              " 'Information Technology Services - University of Rhode Island',\n",
              " 'Microsoft Portal Apps Explained - University of Rhode Island',\n",
              " 'Microsoft Office 365 now free for all URI students',\n",
              " 'Microsoft teams with Rhode Island to bring computer science ... - GeekWire',\n",
              " 'Windows - Installing Office 365 - University of Rhode Island',\n",
              " 'Getting Started – Students – Information Technology Services',\n",
              " 'Giving students in Rhode Island a chance to create the future']"
            ]
          },
          "execution_count": 11,
          "metadata": {},
          "output_type": "execute_result"
        }
      ],
      "source": [
        "[doc['name'] for doc in search_results]"
      ]
    },
    {
      "cell_type": "code",
      "execution_count": 13,
      "metadata": {
        "jupyter": {
          "outputs_hidden": false,
          "source_hidden": false
        },
        "nteract": {
          "transient": {
            "deleting": false
          }
        }
      },
      "outputs": [
        {
          "data": {
            "application/vnd.livy.statement-meta+json": {
              "execution_finish_time": "2023-08-22T00:34:09.4114798Z",
              "execution_start_time": "2023-08-22T00:34:09.2480505Z",
              "livy_statement_state": "available",
              "parent_msg_id": "bbda5113-f640-4416-a1f2-a3bd330c881e",
              "queued_time": "2023-08-22T00:34:09.1125335Z",
              "session_id": "2",
              "session_start_time": null,
              "spark_jobs": null,
              "spark_pool": "smallSpark",
              "state": "finished",
              "statement_id": 14
            },
            "text/plain": [
              "StatementMeta(smallSpark, 2, 14, Finished, Available)"
            ]
          },
          "metadata": {},
          "output_type": "display_data"
        }
      ],
      "source": [
        "def determine_if_MS_partner(_university_name):\n",
        "    \"\"\"\n",
        "    Takes in a university name as input.\n",
        "    Uses the Bing search API to retrieve relevant documents on the relationship between the university and Microsoft.\n",
        "    Uses GPT-4 to determine, based on the available documents, if the university is likely to partner with Microsoft or not.\n",
        "    \"\"\"\n",
        "    openai.api_type = \"azure\"\n",
        "    openai.api_base = os.getenv(\"OPENAI_API_BASE\", \"https://api.openai.com\")\n",
        "    openai.api_version = \"2023-03-15-preview\"\n",
        "    openai.api_key = os.getenv(\"OPENAI_API_KEY\")\n",
        "\n",
        "    print(f\"Determining if { _university_name } is a MS partner based on Bing data.\\n\\n\")\n",
        "\n",
        "    response = openai.ChatCompletion.create(\n",
        "    engine=\"ii-gpt4-8k-internal\",\n",
        "    messages = [\n",
        "        {\"role\": \"system\", \"content\": \"You are a market resarch specialist that takes in web search results about universities' relationships with Microsoft from the user as JSON and outputs a single word: 'True' (if it is likely based on the results that the university works with Microsoft) or 'False'. Please return only the word with no styling, quotations, or extra text.\"},\n",
        "        {\"role\": \"user\", \"content\": f\"\"\"{search_bing(f\"{ _university_name } + Microsoft + news\")}\"\"\"}\n",
        "    ],\n",
        "    temperature=0.1,\n",
        "    max_tokens=1,\n",
        "    frequency_penalty=0,\n",
        "    presence_penalty=0,\n",
        "    stop=None)\n",
        "\n",
        "    print(\"GPT Response\")\n",
        "    print(response)\n",
        "\n",
        "    ms_partner = True if 'True' in response['choices'][0]['message']['content'] else False\n",
        "    if ms_partner:\n",
        "        print(\"The queried university is a partner.\")\n",
        "    else:\n",
        "        print(\"The queried university is NOT a partner.\")\n",
        "    return ms_partner"
      ]
    },
    {
      "cell_type": "code",
      "execution_count": 6,
      "metadata": {
        "jupyter": {
          "outputs_hidden": false,
          "source_hidden": false
        },
        "nteract": {
          "transient": {
            "deleting": false
          }
        }
      },
      "outputs": [
        {
          "data": {
            "application/vnd.livy.statement-meta+json": {
              "execution_finish_time": "2023-08-22T00:32:43.4608336Z",
              "execution_start_time": "2023-08-22T00:32:41.5357255Z",
              "livy_statement_state": "available",
              "parent_msg_id": "d2ff5350-2521-474e-b8ec-429a5b2d0fe0",
              "queued_time": "2023-08-22T00:28:44.6399226Z",
              "session_id": "2",
              "session_start_time": null,
              "spark_jobs": null,
              "spark_pool": "smallSpark",
              "state": "finished",
              "statement_id": 7
            },
            "text/plain": [
              "StatementMeta(smallSpark, 2, 7, Finished, Available)"
            ]
          },
          "metadata": {},
          "output_type": "display_data"
        },
        {
          "name": "stdout",
          "output_type": "stream",
          "text": [
            "Determining if Community College of Rhode Island is a MS partner based on Bing data.\n",
            "\n",
            "\n",
            "Relevant documents from Bing:\n",
            "\n",
            "\n",
            "[{'name': 'CCRI sees a big jump in online learning as the pandemic complicates ...', 'snippet': '0:05. 1:04. WARWICK — When the pandemic struck, the Community College of Rhode Island had a choice: shut down the institution for the duration or find a way to shift more than 2,400 classes ...'}, {'name': 'IT For Students – CCRI - Community College of Rhode Island', 'snippet': 'What is a CCRI Account? Username Lookup Password Management Tool CCRI - RAVE Emergency Alerts Computer Labs Email Faculty Websites Frequently Asked Questions Get Connected Help Desk Microsoft Office Mobile Devices MyCCRI Documentation Policies Printing for Students Printing from Personal Devices Rave Emergency Alerts System Status'}, {'name': 'Home Page – Community College of Rhode Island', 'snippet': \"The Community College of Rhode Island’s partnership with Polaris MEP and the Rhode Island Department of Corrections (RIDOC) was selected as the 2022 recipient of the RIDOC's Teamwork Award. This annual award honors an interdisciplinary team that accomplished a specific goal or project that contributed to the Department of Corrections’ mission.\"}, {'name': 'CCRI will begin spring semester with remote learning | WJAR', 'snippet': 'The Community College of Rhode Island will begin the spring semester with remote learning, the school’s president said in a letter to the campus community Wednesday. CCRI President Meghan...'}, {'name': 'Information Technology - Community College of Rhode Island', 'snippet': 'Office 365 provides enhanced services to the college community including: Access to your files saved in Office 365 using any internet-connected device anywhere, anytime. Fifty gigabytes of e-mail storage and one terabyte of data storage (a lot). Online versions of Office applications such as Word, Excel, and PowerPoint, just to name a few.'}, {'name': 'Community College of Rhode Island (@CCRINews) / Twitter', 'snippet': '2,453 Following 4,947 Followers Replies Media Community College of Rhode Island @CCRINews · Mark your calendar! 📅 Monday, March 20 ⏰ 8:30 am–2:30 pm 💻 Virtual 📅 Thursday, March 23 ⏰ 12–6 pm 📍 Lincoln Campus Visit ccri.edu/jaa for the link to join and more details! #StartHereGoAnywhere #JAA #CCRItoRIC #RhodeIslandCollege Show this thread'}, {'name': 'OneDrive – CCRI - Community College of Rhode Island', 'snippet': \"OneDrive, formerly known as SkyDrive is a clouded-based storage system that lets CCRI students store, share and organize files, photos and favorites on Windows servers, and access them from any computer with an Internet connection. You're automatically logged into OneDrive when you access your MyCCRI student email.\"}, {'name': 'Download Microsoft Office 365 for Students – CCRI', 'snippet': 'Community College of Rhode Island is the largest community college in New England and has been a leader in education and training since 1964. Faculty and staff are committed to ensuring student success. ... Microsoft Office 365 is available for all CCRI students to download.'}, {'name': 'Find Courses and Web Courses – CCRI - Community College of Rhode Island', 'snippet': 'Welcome to the CCRI course search. The Course Availability option will display the most current, up-to-date, available courses for a selected term. You can search by subject, campus, time, and day. Search Courses Online Learning Courses'}, {'name': 'Community Colleges in Rhode Island | US News Education', 'snippet': 'Total Enrollment. Tuition And Fees. Community College of Rhode Island. Warwick, RI. 13,684 Total Enrollment. $4,980 (in-district) Tuition And Fees. $4,980 (in-state) Tuition And Fees. $13,260 (out ...'}]\n",
            "GPT Response\n",
            "{\n",
            "  \"id\": \"chatcmpl-7q9c2Hd4JOVJnxZdyCRcfC12sVEpW\",\n",
            "  \"object\": \"chat.completion\",\n",
            "  \"created\": 1692664362,\n",
            "  \"model\": \"gpt-4\",\n",
            "  \"choices\": [\n",
            "    {\n",
            "      \"index\": 0,\n",
            "      \"finish_reason\": \"length\",\n",
            "      \"message\": {\n",
            "        \"role\": \"assistant\",\n",
            "        \"content\": \"True\"\n",
            "      }\n",
            "    }\n",
            "  ],\n",
            "  \"usage\": {\n",
            "    \"completion_tokens\": 1,\n",
            "    \"prompt_tokens\": 2064,\n",
            "    \"total_tokens\": 2065\n",
            "  }\n",
            "}\n",
            "The queried university is a partner.\n"
          ]
        }
      ],
      "source": [
        "determine_if_MS_partner('Community College of Rhode Island')"
      ]
    },
    {
      "cell_type": "code",
      "execution_count": 7,
      "metadata": {
        "jupyter": {
          "outputs_hidden": false,
          "source_hidden": false
        },
        "nteract": {
          "transient": {
            "deleting": false
          }
        }
      },
      "outputs": [
        {
          "data": {
            "application/vnd.livy.statement-meta+json": {
              "execution_finish_time": "2023-08-22T00:32:45.4990206Z",
              "execution_start_time": "2023-08-22T00:32:43.5969066Z",
              "livy_statement_state": "available",
              "parent_msg_id": "f3c28c58-dd6f-4a3f-8233-8bf44f158f53",
              "queued_time": "2023-08-22T00:28:44.6419454Z",
              "session_id": "2",
              "session_start_time": null,
              "spark_jobs": null,
              "spark_pool": "smallSpark",
              "state": "finished",
              "statement_id": 8
            },
            "text/plain": [
              "StatementMeta(smallSpark, 2, 8, Finished, Available)"
            ]
          },
          "metadata": {},
          "output_type": "display_data"
        },
        {
          "name": "stdout",
          "output_type": "stream",
          "text": [
            "Determining if Brigham Young University is a MS partner based on Bing data.\n",
            "\n",
            "\n",
            "Relevant documents from Bing:\n",
            "\n",
            "\n",
            "[{'name': 'Brigham Young University case study – Microsoft Adoption', 'snippet': 'A private research university in Provo, Utah, Brigham Young University is owned and operated by the Church of Jesus Christ of Latter-day Saints and has the largest on-campus student population of any religious university in the United States.'}, {'name': 'Announcements - BYU News', 'snippet': 'The latest news and information from university administration and the academic colleges at BYU, including the latest in enrollment statistics, new classes and programs, awards and distinctions, new hires and official announcements. ... Brigham Young University will implement a 3% increase for undergraduate tuition for the 2022–23 academic ...'}, {'name': 'News Homepage - BYU News', 'snippet': 'News Menu. Search. Faith. Intellect. Character. Events. Announcements. Events. ... C. Shane Reese named Brigham Young University’s 14th president. ... BYU University Communications ASB C-347 Provo, UT 84602 801-422-4511 Submit Story Idea . News Categories Faith. Intellect ...'}, {'name': 'Brigham Young University - The New York Times', 'snippet': 'Big 12 Gets 4 New Members in College Sports’ Latest Shuffle The Big 12 Conference, dealing with the pending losses of Oklahoma and Texas, extended invitations to Brigham Young, Cincinnati,...'}, {'name': 'BYU Office of Information Technology', 'snippet': 'Microsoft Apps and Services. ... 1388 N. University Ave. Provo, Utah 84602. Contact Live Chat. Txt: (801) 422-4000. Email: IT@BYU.EDU. Phone (801) 422-4000. Resources Office of IT Careers. BeSafe - Online Safety. BYU Developer Portal. InfoHub - Find BYU Data. BYU Websites.'}, {'name': 'Microsoft', 'snippet': 'Go to office.byu.edu. Enter your NetID and password. Click on the grid of white dots in the upper left hand corner. Click Office 365. Click Install Office, then Office 365 apps. Open an Office 365 application. Sign in with your NetID@byu.edu. Close.'}, {'name': 'BYU is under federal investigation for how it disciplines LGBTQ students', 'snippet': \"(George Frey | Special to The Tribune) Students and others gather in front of the Ernest L. Wilkinson Student Center on the campus of Brigham Young University to protest BYU's rollback of a policy ...\"}, {'name': 'New BYU-developed AI technology could benefit future Super ... - BYU News', 'snippet': 'New artificial intelligence technology being developed by engineers at Brigham Young University could significantly cut down on the time and cost that goes into film study for Super Bowl-bound teams (and all NFL and college football teams), while also enhancing game strategy by harnessing the power of big data.'}, {'name': 'Brigham Young University Employees, Location, Alumni | LinkedIn', 'snippet': 'Brigham Young University. 315,596 followers. 2mo Edited. Sunrise Technologies, a Microsoft Cloud Solution Provider, is a company held together by its core values: be honest, work hard, and be nice ...'}, {'name': 'BYU | Cloud Services', 'snippet': 'At the BYU Cloud Office, we uphold an unwavering commitment to the values of the Church of Jesus Christ of Latter-day Saints and Brigham Young University. We aim to reflect that devotion in our development, training, consulting, and policies. Through providing secure and reliable solutions in a way that preserves sacred church resources, our ...'}]\n",
            "GPT Response\n",
            "{\n",
            "  \"id\": \"chatcmpl-7q9c4vIrB6jIJx0EXd4KgJhaSvtvv\",\n",
            "  \"object\": \"chat.completion\",\n",
            "  \"created\": 1692664364,\n",
            "  \"model\": \"gpt-4\",\n",
            "  \"choices\": [\n",
            "    {\n",
            "      \"index\": 0,\n",
            "      \"finish_reason\": \"length\",\n",
            "      \"message\": {\n",
            "        \"role\": \"assistant\",\n",
            "        \"content\": \"True\"\n",
            "      }\n",
            "    }\n",
            "  ],\n",
            "  \"usage\": {\n",
            "    \"completion_tokens\": 1,\n",
            "    \"prompt_tokens\": 2010,\n",
            "    \"total_tokens\": 2011\n",
            "  }\n",
            "}\n",
            "The queried university is a partner.\n"
          ]
        }
      ],
      "source": [
        "determine_if_MS_partner('Brigham Young University')"
      ]
    },
    {
      "cell_type": "markdown",
      "metadata": {
        "nteract": {
          "transient": {
            "deleting": false
          }
        }
      },
      "source": [
        "Analyze Rhode Island Universities"
      ]
    },
    {
      "cell_type": "code",
      "execution_count": 10,
      "metadata": {
        "jupyter": {
          "outputs_hidden": false,
          "source_hidden": false
        },
        "nteract": {
          "transient": {
            "deleting": false
          }
        }
      },
      "outputs": [
        {
          "data": {
            "application/vnd.livy.statement-meta+json": {
              "execution_finish_time": "2023-08-22T00:33:30.2659114Z",
              "execution_start_time": "2023-08-22T00:33:27.4347804Z",
              "livy_statement_state": "available",
              "parent_msg_id": "6455474e-22d5-4aee-83f2-f33c9af3f2e9",
              "queued_time": "2023-08-22T00:33:27.3182967Z",
              "session_id": "2",
              "session_start_time": null,
              "spark_jobs": null,
              "spark_pool": "smallSpark",
              "state": "finished",
              "statement_id": 11
            },
            "text/plain": [
              "StatementMeta(smallSpark, 2, 11, Finished, Available)"
            ]
          },
          "metadata": {},
          "output_type": "display_data"
        }
      ],
      "source": [
        "import pandas as pd"
      ]
    },
    {
      "cell_type": "code",
      "execution_count": 14,
      "metadata": {
        "jupyter": {
          "outputs_hidden": false,
          "source_hidden": false
        },
        "nteract": {
          "transient": {
            "deleting": false
          }
        }
      },
      "outputs": [
        {
          "data": {
            "application/vnd.livy.statement-meta+json": {
              "execution_finish_time": "2023-08-22T00:34:31.4370015Z",
              "execution_start_time": "2023-08-22T00:34:14.335508Z",
              "livy_statement_state": "available",
              "parent_msg_id": "a6261ea7-27ab-41fb-b5ec-29a289439ee6",
              "queued_time": "2023-08-22T00:34:14.2162601Z",
              "session_id": "2",
              "session_start_time": null,
              "spark_jobs": null,
              "spark_pool": "smallSpark",
              "state": "finished",
              "statement_id": 15
            },
            "text/plain": [
              "StatementMeta(smallSpark, 2, 15, Finished, Available)"
            ]
          },
          "metadata": {},
          "output_type": "display_data"
        },
        {
          "name": "stdout",
          "output_type": "stream",
          "text": [
            "Determining if Brown University is a MS partner based on Bing data.\n",
            "\n",
            "\n",
            "Relevant documents from Bing:\n",
            "\n",
            "\n",
            "[{'name': 'Brown University Recovering from Cyber Attack', 'snippet': 'Brown University was still recovering last week from a recent cybersecurity attack that affected Microsoft Windows-based programs, although it did not disclose whether sensitive data was...'}, {'name': 'Of 1 million COVID deaths, how many could have been averted with ...', 'snippet': 'These figures come from an analysis released Friday by researchers at Brown University and Microsoft AI Health — shared exclusively with NPR — that estimates the portion of...'}, {'name': 'Come Work for Microsoft (Remotely) | OIT | Brown ... - Brown University', 'snippet': 'From: Evan Brooks Date: Mon, Sep 20, 2021 at 10:20 AM Subject: Come Work for Microsoft (Remotely) To:'}, {'name': 'Will Brown settle in price-fixing lawsuit? University is mum.', 'snippet': 'A full list is below.) Last week, one of the schools – the University of Chicago – reached a $13.2 million settlement in the case. This leaves Brown among the 16 remaining defendants, each of ...'}, {'name': 'Announcements | OIT | Brown University', 'snippet': 'Sharon P. Pitt named Brown’s vice president for information technology. An accomplished leader with decades of information technology experience in higher education, Pitt will advance innovative technology, data and digital solutions for faculty, students and staff. April 15, 2022 News from OIT.'}, {'name': 'News from Brown | Brown University', 'snippet': 'News from Brown | Brown University Health and Medicine Summer internship welcomes Providence-area high schoolers to explore careers in science and research Featured Headlines All News Science and Technology Satellite built by Brown students as low-cost way to reduce space junk reenters atmosphere years early Health and Medicine'}, {'name': 'Brown University offers Office 365 to students at no additional cost ...', 'snippet': '/PRNewswire/ -- Brown University has selected Microsoft Office 365 for its students, and is using the Microsoft Student Advantage benefit to extend the service...'}, {'name': 'Microsoft Gives Brown $1.2M for Software Development', 'snippet': 'On Monday, Microsoft Research said it will give Rhode Island’s Brown University $1.2 million over the next three years to develop software for recognizing complex handwriting and gestures, the ...'}, {'name': 'Microsoft Software - Brown University', 'snippet': 'Brown University has agreements with Microsoft for licensing and acquiring software under a few programs. Details are provided in the table below. Email Software_Services or call 863-HELP (4357) if you have questions about Microsoft licensing. EES is an annual licensing program for higher education institutions.'}, {'name': 'Microsoft Office 365 | Software Catalog - Brown University', 'snippet': \"Description: Microsoft Office 365 for Students, Paid Faculty, and Staff Operating System: Windows macOS iOS Android Windows Phone Availability Licensed for: Staff Brown-paid Faculty All Students Keyed: No Vendor Links Microsoft Add or Remove Office Add-ins Troubleshooting/FAQs Catalog Information IT at Brown Don't see what you need?\"}]\n",
            "GPT Response\n",
            "{\n",
            "  \"id\": \"chatcmpl-7q9dW6F6NK2y17nmpLtArO8PykOFN\",\n",
            "  \"object\": \"chat.completion\",\n",
            "  \"created\": 1692664454,\n",
            "  \"model\": \"gpt-4\",\n",
            "  \"choices\": [\n",
            "    {\n",
            "      \"index\": 0,\n",
            "      \"finish_reason\": \"length\",\n",
            "      \"message\": {\n",
            "        \"role\": \"assistant\",\n",
            "        \"content\": \"True\"\n",
            "      }\n",
            "    }\n",
            "  ],\n",
            "  \"usage\": {\n",
            "    \"completion_tokens\": 1,\n",
            "    \"prompt_tokens\": 1906,\n",
            "    \"total_tokens\": 1907\n",
            "  }\n",
            "}\n",
            "The queried university is a partner.\n",
            "Determining if Bryant University is a MS partner based on Bing data.\n",
            "\n",
            "\n",
            "Relevant documents from Bing:\n",
            "\n",
            "\n",
            "[{'name': \"Bill Gates thought school wasn't 'interesting' as a child\", 'snippet': 'Gates went on to develop his mathematics and coding skills in high school, before dropping out of Harvard University to co-found Microsoft in 1975. These days, a huge chunk of his philanthropy ...'}, {'name': 'Bryant University Ushers in Bold New Era of Excellence and Innovation ...', 'snippet': 'SMITHFIELD, R.I., May 25, 2023 /PRNewswire/ -- Bryant University embarks on a bold new era of excellence and innovation with the announcement of a significant campus expansion thanks to a...'}, {'name': 'How Bryant University Teaches with Innovation and ... - microsoft.com', 'snippet': 'Bryant University is currently ranked as a top ten Regional University by U.S. News and World Report, and its College of Business is ranked third in the country by USA Today. Improving collaboration among its students and faculty has always been a priority, and change is something the school embraces, especially when it comes to technology.'}, {'name': 'Bryant launches Graduate Programs in Business Analytics, Data Science ...', 'snippet': 'SMITHFIELD, R.I., Sept. 28, 2022 /PRNewswire/ -- Bryant University announces the launch of four new graduate programs to empower students and working professionals with the knowledge, skills, and ...'}, {'name': \"The year in stories: Bryant's biggest news from 2022 | Bryant News\", 'snippet': 'Bryant University garnered a record of nearly 9,000 applications and more than 1,000 deposits for the entering Class of 2026, establishing a foundation for the highest-achieving incoming class in Bryant history. Read more'}, {'name': 'Office 365 - Bryant University', 'snippet': \"Office 365 is Bryant's preferred platform for productivity software and related services. Features Outlook - email, calendar, contact management OneDrive - store and share your documents online Word , Excel and PowerPoint - collaborative productivity applications OneNote - organize your notes Access (PC only) - create and manage databases\"}, {'name': '2023 faculty grants explore new technologies ... - news.bryant.edu', 'snippet': 'Aug 15, 2023, by Stephen Kostrzewa. Learn About Bryant Apply to Bryant. Over the course of 11 years, more than 50 Faculty Innovation Grants have been awarded for a range of projects, from developing robotics courses to supporting 3D printing to pioneering new methods of faulty/student engagement. Uniting all of the grant recipients, however, is ...'}, {'name': \"Why is Bryant University leaving the NEC to join America East? 'To win ...\", 'snippet': 'Bryant University being linked to a move from the Northeast Conference to the America East was news to its athletic director. The Bulldogs were content in the league they’d called home since elevating from Division II in the 2008-09 academic year. Smith placed a call to New Hampshire athletic director Marty Scarano, a connection that dates ...'}, {'name': 'Bryant News | Bryant News - Bryant University', 'snippet': 'Bryant’s Commitment to an Inclusive Environment: Bryant University does not discriminate or permit discrimination by any member of its community against any individual on the basis of race, color, religion, national origin, sex, pregnancy, sexual orientation, gender identity, gender expression, parental status, marital status, age, disability, citizenship status, veteran status, genetic ...'}, {'name': 'Microsoft Plans $1 Billion Campus in North Carolina Cloud Cluster ...', 'snippet': 'The Microsoft team is familiar with the area from a site selection process in 2010 that triggered heated competition between economic development teams in Virginia and North Carolina. Microsoft was eyeing a location in Cleveland County, N.C. but opted to build a data center in Boydton, Va., just across the border between the two states.'}]\n",
            "GPT Response\n",
            "{\n",
            "  \"id\": \"chatcmpl-7q9dXar0rZnkgWBRKHMCGhveirduU\",\n",
            "  \"object\": \"chat.completion\",\n",
            "  \"created\": 1692664455,\n",
            "  \"model\": \"gpt-4\",\n",
            "  \"choices\": [\n",
            "    {\n",
            "      \"index\": 0,\n",
            "      \"finish_reason\": \"length\",\n",
            "      \"message\": {\n",
            "        \"role\": \"assistant\",\n",
            "        \"content\": \"True\"\n",
            "      }\n",
            "    }\n",
            "  ],\n",
            "  \"usage\": {\n",
            "    \"completion_tokens\": 1,\n",
            "    \"prompt_tokens\": 2568,\n",
            "    \"total_tokens\": 2569\n",
            "  }\n",
            "}\n",
            "The queried university is a partner.\n",
            "Determining if College Unbound is a MS partner based on Bing data.\n",
            "\n",
            "\n",
            "Relevant documents from Bing:\n",
            "\n",
            "\n",
            "[{'name': 'Three questions for Lance Eaton of College Unbound - Inside Higher Ed', 'snippet': 'A: College Unbound (CU) is an accredited college granting bachelor’s degrees in organizational leadership and change. CU is geared towards adult learners, particularly those who have stopped out due to higher education’s exclusionary and unsupportive practices.'}, {'name': 'News | College Unbound', 'snippet': \"News and Announcements College Unbound Receives $320K Grant from William Penn Foundation to Help School Paraprofessionals Earn Bachelor’s Degrees and Become Full-time Teachers Start Your Application Process We're now accepting applications for the Fall 2023 semester. Apply today!\"}, {'name': 'A College Unbound: Cohorts, Educational Trauma, and Micromodels as ...', 'snippet': 'November 13, 2019 By Louis Soares and Ursula Gross The mismatch between a traditional college education and the vast number of adults who would benefit from a college degree is no small matter.'}, {'name': '‘Untapped Talent’: TA to BA Teacher Prep Program Scales ... - The 74', 'snippet': 'Students take two College Unbound courses a semester, scheduled outside of the work day, plus a lab component specifically geared to prepare them to lead a classroom. Thanks to a process at the college for measuring and awarding credits for prior learning experiences, some students are able to take an accelerated path to graduation.'}, {'name': 'College Unbound', 'snippet': 'Our Purpose. College Unbound (CU), focuses on adult learners who have faced significant barriers to attending college. CU coordinates courses, field studies, and in-depth project work to help students develop field-specific knowledge and skills that encourage deep learning. CU fills a unique niche in postsecondary education for returning adult ...'}, {'name': 'College Unbound - Overview, News & Competitors | ZoomInfo.com', 'snippet': \"View College Unbound (www.collegeunbound.org) location in Rhode Island, United States , revenue, industry and description. ... Microsoft. Office 365. By. Microsoft. See more technologies. College Unbound News & Media. Bush named College Unbound's new president - Providence Business News. Jun 23, 2022. pbn.com . Read more news.\"}, {'name': 'Battle Over Prison Bridge Program at College Unbound', 'snippet': \"Providence's James Monteiro has sent a cease and desist letter to College Unbound (CU) to stop using the Prison Bridge Program (PBP) name, after he said he created and registered the program;\"}, {'name': 'News | College Unbound', 'snippet': 'College Unbound is designed for adults. We help adults re-enter and stay in college and get their bachelor of arts degree. This non-profit organization, located in Providence, RI.'}, {'name': 'College Unbound: A Regional Accreditation and Innovation Journey', 'snippet': 'College Unbound is a unique institution designed for low-income adults who have started college but not finished. We welcome you to uncover this journey, which uses a blend of apprenticeship, high-impact practices, and student supports to help students achieve a bachelor’s degree. Socially responsible, mission-driven, and nonprofit i ...'}, {'name': 'MyCU - Resources - College Unbound', 'snippet': 'News. COVID-19 Update; Facebook; Twitter; Instagram; Linkedin; Search; ... Create and edit your digital portfolios. View your CU e-mail. College Unbound Designed for Adults. Rhode Island Classes Held At: 325 Public Street, Providence, RI 02905. Rhode Island Administrative Offices: 115 Cedar Street, Providence, RI, 02903 Phone: (401) 752-2640.'}]\n",
            "GPT Response\n",
            "{\n",
            "  \"id\": \"chatcmpl-7q9dZbbA5GkZiFTrYBhJmQVzHC4RV\",\n",
            "  \"object\": \"chat.completion\",\n",
            "  \"created\": 1692664457,\n",
            "  \"model\": \"gpt-4\",\n",
            "  \"choices\": [\n",
            "    {\n",
            "      \"index\": 0,\n",
            "      \"finish_reason\": \"length\",\n",
            "      \"message\": {\n",
            "        \"role\": \"assistant\",\n",
            "        \"content\": \"True\"\n",
            "      }\n",
            "    }\n",
            "  ],\n",
            "  \"usage\": {\n",
            "    \"completion_tokens\": 1,\n",
            "    \"prompt_tokens\": 2190,\n",
            "    \"total_tokens\": 2191\n",
            "  }\n",
            "}\n",
            "The queried university is a partner.\n",
            "Determining if Community College of Rhode Island is a MS partner based on Bing data.\n",
            "\n",
            "\n",
            "Relevant documents from Bing:\n",
            "\n",
            "\n",
            "[{'name': 'CCRI sees a big jump in online learning as the pandemic complicates ...', 'snippet': '0:05. 1:04. WARWICK — When the pandemic struck, the Community College of Rhode Island had a choice: shut down the institution for the duration or find a way to shift more than 2,400 classes ...'}, {'name': 'IT For Students – CCRI - Community College of Rhode Island', 'snippet': 'What is a CCRI Account? Username Lookup Password Management Tool CCRI - RAVE Emergency Alerts Computer Labs Email Faculty Websites Frequently Asked Questions Get Connected Help Desk Microsoft Office Mobile Devices MyCCRI Documentation Policies Printing for Students Printing from Personal Devices Rave Emergency Alerts System Status'}, {'name': 'Home Page – Community College of Rhode Island', 'snippet': \"The Community College of Rhode Island’s partnership with Polaris MEP and the Rhode Island Department of Corrections (RIDOC) was selected as the 2022 recipient of the RIDOC's Teamwork Award. This annual award honors an interdisciplinary team that accomplished a specific goal or project that contributed to the Department of Corrections’ mission.\"}, {'name': 'CCRI will begin spring semester with remote learning | WJAR', 'snippet': 'The Community College of Rhode Island will begin the spring semester with remote learning, the school’s president said in a letter to the campus community Wednesday. CCRI President Meghan...'}, {'name': 'Information Technology - Community College of Rhode Island', 'snippet': 'Office 365 provides enhanced services to the college community including: Access to your files saved in Office 365 using any internet-connected device anywhere, anytime. Fifty gigabytes of e-mail storage and one terabyte of data storage (a lot). Online versions of Office applications such as Word, Excel, and PowerPoint, just to name a few.'}, {'name': 'Community College of Rhode Island (@CCRINews) / Twitter', 'snippet': '2,453 Following 4,947 Followers Replies Media Community College of Rhode Island @CCRINews · Mark your calendar! 📅 Monday, March 20 ⏰ 8:30 am–2:30 pm 💻 Virtual 📅 Thursday, March 23 ⏰ 12–6 pm 📍 Lincoln Campus Visit ccri.edu/jaa for the link to join and more details! #StartHereGoAnywhere #JAA #CCRItoRIC #RhodeIslandCollege Show this thread'}, {'name': 'OneDrive – CCRI - Community College of Rhode Island', 'snippet': \"OneDrive, formerly known as SkyDrive is a clouded-based storage system that lets CCRI students store, share and organize files, photos and favorites on Windows servers, and access them from any computer with an Internet connection. You're automatically logged into OneDrive when you access your MyCCRI student email.\"}, {'name': 'Download Microsoft Office 365 for Students – CCRI', 'snippet': 'Community College of Rhode Island is the largest community college in New England and has been a leader in education and training since 1964. Faculty and staff are committed to ensuring student success. ... Microsoft Office 365 is available for all CCRI students to download.'}, {'name': 'Community College of Rhode Island - Wikipedia', 'snippet': \"The Community College of Rhode Island (CCRI) is a public community college in Rhode Island. ... It replaced the Knightly News, which had been active in the 1980s, but had become defunct several years prior to the Lens' founding. Sport. The college athletics teams are nicknamed the Knights.\"}, {'name': 'Find Courses and Web Courses – CCRI - Community College of Rhode Island', 'snippet': 'Welcome to the CCRI course search. The Course Availability option will display the most current, up-to-date, available courses for a selected term. You can search by subject, campus, time, and day. Search Courses Online Learning Courses'}]\n",
            "GPT Response\n",
            "{\n",
            "  \"id\": \"chatcmpl-7q9daGS82rOaAFzVcxPDFKhSlbo6t\",\n",
            "  \"object\": \"chat.completion\",\n",
            "  \"created\": 1692664458,\n",
            "  \"model\": \"gpt-4\",\n",
            "  \"choices\": [\n",
            "    {\n",
            "      \"index\": 0,\n",
            "      \"finish_reason\": \"length\",\n",
            "      \"message\": {\n",
            "        \"role\": \"assistant\",\n",
            "        \"content\": \"True\"\n",
            "      }\n",
            "    }\n",
            "  ],\n",
            "  \"usage\": {\n",
            "    \"completion_tokens\": 1,\n",
            "    \"prompt_tokens\": 2151,\n",
            "    \"total_tokens\": 2152\n",
            "  }\n",
            "}\n",
            "The queried university is a partner.\n",
            "Determining if Johnson & Wales University is a MS partner based on Bing data.\n",
            "\n",
            "\n",
            "Relevant documents from Bing:\n",
            "\n",
            "\n",
            "[{'name': 'JWU News Stories | Johnson & Wales University', 'snippet': 'The latest news from Johnson & Wales University’s campuses. Read about new academic programs, universitywide initiatives, world travel, interdisciplinary projects and more.'}, {'name': 'Latest Headlines | Johnson & Wales University', 'snippet': '10 Jobs You Can Get With an Accounting Degree Ashley Caprarella 13 March 2023 Hospitality Long Live the QR Code! Ron Blum 03 March 2023 News Top 5 JWU Charlotte Homecoming Highlights Amber Roberts 02 March 2023 News Our Favorite Places to Eat in Charlotte, NC Ashley Caprarella 28 February 2023 Students'}, {'name': 'Johnson & Wales University - Breaking News, US News, World News and Videos', 'snippet': 'Johnson & Wales University. The median family income of a student from Johnson & Wales is $78,100, and 32% come from the top 20 percent. About 1.8% of students at Johnson & Wales came from a poor ...'}, {'name': 'Johnson & Wales University is Training the Cybersecurity Leaders of ...', 'snippet': 'Doug: Johnson & Wales developed the cybersecurity curriculum to match the NSA (CAE-CDE) standards. This means the curriculum was primarily designed using the Workforce Framework for Cybersecurity (NICE Framework), training students on how to help organizations operate and maintain systems performance and security while protecting and defending ...'}, {'name': 'University Press Releases | Johnson & Wales University', 'snippet': 'Home / University Press Releases Mise en Place: 50 Years of CFIT 04/10/23 | JWU’s College of Food Innovation & Technology (CFIT) celebrates a golden anniversary as it looks to change the world with future-forward programs. JWU Announces Inaugural Director of the Center for Beverage Education & Innovation'}, {'name': 'Johnson & Wales University - Profile, Rankings and Data | US News Best ...', 'snippet': 'Overview Johnson & Wales University is a private institution that was founded in 1914. It has a total undergraduate enrollment of 4,652 (fall 2021), its setting is urban, and the campus size is...'}, {'name': 'Johnson & Wales University - JWU | Private, nonprofit, accredited ...', 'snippet': 'Notice of Nondiscrimination. Johnson & Wales University (JWU) admits students of or with any age, color, disability, ethnic and national origin, gender, gender identity, genetic information, marital or parental status, race, religion, sex, sexual orientation, veteran status, or any other legally protected category to all the activities, privileges, programs, and rights generally accorded or ...'}, {'name': 'Johnson & Wales University - Wikipedia', 'snippet': 'Johnson & Wales University ( JWU) is a private university with its main campus in Providence, Rhode Island. Founded as a business school in 1914 by Gertrude I. Johnson and Mary T. Wales, JWU enrolled 7,357 students across its campuses in the fall of 2020. [5] The university is accredited by the New England Commission of Higher Education . History'}, {'name': 'Quick Links - Johnson & Wales University', 'snippet': 'Notice of Nondiscrimination. Johnson & Wales University (JWU) admits students of or with any age, color, disability, ethnic and national origin, gender, gender identity, genetic information, marital or parental status, race, religion, sex, sexual orientation, veteran status, or any other legally protected category to all the activities, privileges, programs, and rights generally accorded or ...'}, {'name': 'Technology Services – Support & Resources | JWU CPS', 'snippet': 'Technical Resources If you’ve found this page, it probably means you’ve encountered a tech-related problem or you’re looking for a little more information about learning online with JWU. The good news — we can help with both! Technical Support Support specialists are available to help you use ulearn. Phone: 866-598-4357 Email: i [email protected]'}]\n",
            "GPT Response\n",
            "{\n",
            "  \"id\": \"chatcmpl-7q9dbz42e7Iw0jqaK882N0Kt9PQaR\",\n",
            "  \"object\": \"chat.completion\",\n",
            "  \"created\": 1692664459,\n",
            "  \"model\": \"gpt-4\",\n",
            "  \"choices\": [\n",
            "    {\n",
            "      \"index\": 0,\n",
            "      \"finish_reason\": \"length\",\n",
            "      \"message\": {\n",
            "        \"role\": \"assistant\",\n",
            "        \"content\": \"False\"\n",
            "      }\n",
            "    }\n",
            "  ],\n",
            "  \"usage\": {\n",
            "    \"completion_tokens\": 1,\n",
            "    \"prompt_tokens\": 2164,\n",
            "    \"total_tokens\": 2165\n",
            "  }\n",
            "}\n",
            "The queried university is NOT a partner.\n",
            "Determining if Naval War College is a MS partner based on Bing data.\n",
            "\n",
            "\n",
            "Relevant documents from Bing:\n",
            "\n",
            "\n",
            "[{'name': 'Naval Postgraduate School Collaborates With Microsoft To Bring Emerging ...', 'snippet': 'MONTEREY, Calif. (May 2, 2022) The Naval Postgraduate School is teaming up with Microsoft to explore how rapidly evolving commercial technologies can solve operational challenges faced by the U.S. Navy and U.S. Marine Corps.'}, {'name': 'Navy rejects former War College leader’s claim that porn-linked email ...', 'snippet': \"May 19, 2022 The former provost of the Naval War College got onto trouble in 2020 when he accidentally emailed an inappropriate link to staff. Seen here: the college's Luce Hall on Coasters...\"}, {'name': 'Microsoft partners with Naval Postgraduate School', 'snippet': 'MONTEREY, Calif. (April 21, 2022) The Naval Postgraduate School is teaming up with Microsoft to explore how rapidly evolving commercial technologies can solve operational challenges faced by the U ...'}, {'name': 'News - Naval War College', 'snippet': 'U.S. Naval War College Latest News. All News. U.S. Naval War College Hosts 10th Wargaming 101 Course . August 15, 2023. ... Newport, R.I. - The U.S. Naval War College (NWC) began its 2023-2024 academic year by holding a convocation ceremony and its seventh Future Warfighting Symposium (FWS), onboard Naval Station Newport, Aug. 8-10. ...'}, {'name': 'News and Events - Naval War College', 'snippet': 'Our world-class faculty members are frequent media contributors to both historical and current issues in world affairs, policy, and national security. In addition, the Naval War College (NWC) hosts a wide variety of substantive and newsworthy events including lectures, symposia, and conferences throughout the year.'}, {'name': 'DVIDS - News - U.S. Naval War College Begins New Academic Year with ...', 'snippet': 'Newport, R.I. - The U.S. Naval War College (NWC) began its 2023-2024 academic year by holding a convocation ceremony and its seventh Future Warfighting Symposium (FWS), onboard Naval Station ...'}, {'name': 'U.S. Naval War College', 'snippet': 'Established in 1884 as an advanced course of professional study for naval officers, the U.S. Naval War College educates and develops leaders at specific stages in their careers from all services, U.S. government agencies and departments, and international navies. Intermediate Officers O3, O4 Senior Officers O5, O6 Flag/General Officers O7+'}, {'name': 'Winning the Next War—Virtually | Proceedings - U.S. Naval Institute', 'snippet': 'American Sea Power Project Contact Proceedings All Issues Winning the Next War—Virtually The Navy must scale up its use of live, virtual, constructive learning technologies to keep pace with peer adversaries. By Captain Patrick Molenda, U.S. Navy (Retired) July 2023 Proceedings Vol. 149/7/1,445 Featured Article View Issue Share Comments'}, {'name': \"Naval War College's Leader Development ... - United States Navy\", 'snippet': 'In a move designed to provide more Sailors with better and more relevant training and education in accordance with guidance from the chief of naval operations (CNO), U.S. Naval War College (NWC) has'}, {'name': 'Upcoming Events - Naval War College', 'snippet': 'Evans Hall, U.S. Naval War College, 686 Cushing Rd, Newport, RI 02841. The Executive Level Operational Level of Warfare Course 24-1 begins on December 4, 2023 and concludes on December 8, 2023. This one-week course is taught three times a year at the College of Maritime Operational Warfare located at the U.S. Naval War College in Newport, Rhode ...'}]\n",
            "GPT Response\n",
            "{\n",
            "  \"id\": \"chatcmpl-7q9dclatIfsbd6KsPYtHgq64bzsqV\",\n",
            "  \"object\": \"chat.completion\",\n",
            "  \"created\": 1692664460,\n",
            "  \"model\": \"gpt-4\",\n",
            "  \"choices\": [\n",
            "    {\n",
            "      \"index\": 0,\n",
            "      \"finish_reason\": \"length\",\n",
            "      \"message\": {\n",
            "        \"role\": \"assistant\",\n",
            "        \"content\": \"True\"\n",
            "      }\n",
            "    }\n",
            "  ],\n",
            "  \"usage\": {\n",
            "    \"completion_tokens\": 1,\n",
            "    \"prompt_tokens\": 2260,\n",
            "    \"total_tokens\": 2261\n",
            "  }\n",
            "}\n",
            "The queried university is a partner.\n",
            "Determining if New England Institute of Technology is a MS partner based on Bing data.\n",
            "\n",
            "\n",
            "Relevant documents from Bing:\n",
            "\n",
            "\n",
            "[{'name': 'News & Media | NEIT - New England Institute of Technology', 'snippet': 'East Greenwich, RI - New England Institute of Technology’s (NEIT) Rocket League esports team competed in the National Esports Collegiate Conference (NECC) finals on December 4, 2022, in Worcester, MA and won the NECC Rocket League Title in the Emergents Atlantic Division by defeating Assumption University (Worcester, MA) 4-0.'}, {'name': 'Microsoft Research Lab – New England', 'snippet': 'Microsoft Research New England (MSR-NE) was founded in July 2008 in Cambridge, Massachusetts. The New England lab builds on Microsoft’s commitment to collaborate with the broader research community and pursues new, interdisciplinary areas of research that bring together core computer scientists and social scientists to understand, model, and enable computing and online experiences of the ...'}, {'name': 'MICROSOFT : Research New England Kicks Off New Era in Computer Science ...', 'snippet': 'Remember . Or log in with'}, {'name': 'New England Lab Celebrates 5 Years of Interdisciplinary Success ...', 'snippet': 'Microsoft Research Summit 2022 On-Demand Watch now to learn about some of the most pressing questions facing our research community and listen in on conversations with 120+ researchers around how to ensure new technologies have the broadest possible benefit for humanity. Explore sessions'}, {'name': 'Microsoft New England', 'snippet': 'The New England Research and Development team (NERD) are globally recognized leaders in developing AI technology and understanding how that technology impacts our lives. And programs like MAIDAP are helping develop the next generation of leaders in AI. LEARN MORE The Garage'}, {'name': 'New England Institute of Technology Archives - Microsoft New England', 'snippet': 'New England Blog. New England Blog. New England Blog'}, {'name': 'New England Institute of Technology - U.S. News & World Report', 'snippet': 'Overview New England Institute of Technology is a private institution that was founded in 1940. It has a total undergraduate enrollment of 1,739 (fall 2021), its setting is suburban, and the...'}, {'name': 'New England Institute of Technology | NEIT', 'snippet': 'On Sunday, May 7, 2023, at 11 a.m. at the Amica Mutual Pavilion, we recognized all our deserving new graduates at New England Institute of Technology’s 2023 Commencement Ceremony. Get Info COLLEGE OF HEALTH SCIENCES Excel In Healthcare From day one, we’ll give you the training and instruction you need to make moves in healthcare.'}, {'name': 'Massachusetts Institute of Technology Archives - Microsoft New England', 'snippet': 'Oct 4, 2017 | MSNE Staff Microsoft New England’s (Un)Official Guide to HUBweek 2017 Apr 17, 2017 | Jennifer Chayes, Distinguished Scientists & Managing Director, Microsoft Research New England and New York City #NERD10: Research Lab’s Interdisciplinary Approach Benefits from Region’s Intellectual Horsepower'}, {'name': 'New England Institute of Technology Student Life - US News Best Colleges', 'snippet': 'New England Institute of Technology has a total undergraduate enrollment of 1,739 (fall 2021), with a gender distribution of 62% male students and 38% female students. New England Tech Student ...'}]\n",
            "GPT Response\n",
            "{\n",
            "  \"id\": \"chatcmpl-7q9ddsKAszaTh2BJE7ML0FvO8UQvk\",\n",
            "  \"object\": \"chat.completion\",\n",
            "  \"created\": 1692664461,\n",
            "  \"model\": \"gpt-4\",\n",
            "  \"choices\": [\n",
            "    {\n",
            "      \"index\": 0,\n",
            "      \"finish_reason\": \"length\",\n",
            "      \"message\": {\n",
            "        \"role\": \"assistant\",\n",
            "        \"content\": \"True\"\n",
            "      }\n",
            "    }\n",
            "  ],\n",
            "  \"usage\": {\n",
            "    \"completion_tokens\": 1,\n",
            "    \"prompt_tokens\": 2198,\n",
            "    \"total_tokens\": 2199\n",
            "  }\n",
            "}\n",
            "The queried university is a partner.\n",
            "Determining if Providence College is a MS partner based on Bing data.\n",
            "\n",
            "\n",
            "Relevant documents from Bing:\n",
            "\n",
            "\n",
            "[{'name': 'Coveted, skills-based Microsoft certification motivates students', 'snippet': 'A Data Applications in Business course offered by the Providence College School of Business helped students prepare for the Microsoft Office Specialist Excel 2016 exam in Excel programming that leads to their Microsoft Office Excel Associate 2016 certification — a key benchmark sought by employers.'}, {'name': '2021 IT Year in Review - Information Technology at Providence College', 'snippet': 'In response to the COVID-19 pandemic, Providence College’s Information Technology (PCIT) department developed a robust application to track testing of the campus community.'}, {'name': 'Information Security Annual Report – Information Technology at ...', 'snippet': 'The ISO engaged Microsoft to perform a holistic security review of the College’s Azure and Office 365 environments. Results of the assessment were documented and provided to the ISO, who then collaborated with Enterprise Infrastructure & Operations to prioritize findings for remediation based on risk and potential impact'}, {'name': 'Software – iHelp – Technology Support at Providence College', 'snippet': 'Yes! The list of available software for faculty and staff contains info on software packages available both for college-owned and personally owned computers. I need to install software from a CD/DVD but my computer does not have that type of drive.'}, {'name': 'Press Releases – Media Relations at Providence College', 'snippet': 'Virtual Tour Press Releases The Office of Public Affairs, Community and Government Relations welcomes your interest in news about Providence College. Posted on this page are current news releases about important College events, activities, and achievements.'}, {'name': 'OneDrive – iHelp – Technology Support at Providence College', 'snippet': 'Sign into Office.com or any of your Providence College Microsoft 365 services on the web. Click on the App Launcher in the upper left-hand corner. Choose OneDrive. OneDrive on your Computer College-Issued Computers OneDrive is installed on all college-issued computers. On PCs, it will automatically log you into your Providence College account.'}, {'name': 'Providence College News - Home for all PC News', 'snippet': 'Stories and News Virtual Tour Providence College News Academic programs of distinction, opportunities for students and others to make enduring connections, and a dynamic campus community where everyone is invited to participate fully characterize the Providence College experience.'}, {'name': 'Microsoft Office Certification – The Chirico ... - Providence College', 'snippet': 'We want to get you certified! The Chirico Career Center offers plenty of opportunities to become certified in many Microsoft Office products before graduation. As part of our Friar Four Career Core program, we currently offer paths for students to gain certifications. These certifications make a great addition to any resume or LinkedIn profile!'}, {'name': 'Computer Recommendations and Requirements - Providence College', 'snippet': 'Windows-based PC Microsoft Windows 11 or newer Microsoft Office 365 Anti-virus software At least 3 years of warranty coverage Microsoft Office and Windows are available to all students free-of-charge. See Software Availability for more info. Apple Mac macOS 12 Monterey or newer Microsoft Office 365 Anti-virus software AppleCare'}, {'name': 'PC students rally college students from around the country to create ...', 'snippet': 'Management students at Providence College created a two-minute video — featuring their classmates and friends from colleges across the country — to encourage young adults to take seriously warnings about the coronavirus.'}]\n",
            "GPT Response\n",
            "{\n",
            "  \"id\": \"chatcmpl-7q9dfcXajHZZ6AQjXOaVBLWzS7cxc\",\n",
            "  \"object\": \"chat.completion\",\n",
            "  \"created\": 1692664463,\n",
            "  \"model\": \"gpt-4\",\n",
            "  \"choices\": [\n",
            "    {\n",
            "      \"index\": 0,\n",
            "      \"finish_reason\": \"length\",\n",
            "      \"message\": {\n",
            "        \"role\": \"assistant\",\n",
            "        \"content\": \"True\"\n",
            "      }\n",
            "    }\n",
            "  ],\n",
            "  \"usage\": {\n",
            "    \"completion_tokens\": 1,\n",
            "    \"prompt_tokens\": 2005,\n",
            "    \"total_tokens\": 2006\n",
            "  }\n",
            "}\n",
            "The queried university is a partner.\n",
            "Determining if Rhode Island College is a MS partner based on Bing data.\n",
            "\n",
            "\n",
            "Relevant documents from Bing:\n",
            "\n",
            "\n",
            "[{'name': 'GoLocalProv | News | Langevin to Lead New Institute for Cybersecurity ...', 'snippet': 'Rhode Island Governor Dan McKee, Lt. Governor Sabina Matos, Congressman James Langevin, and Rhode Island College (RIC) President Jack Warner have unveiled a proposal to create the new Institute ...'}, {'name': 'Microsoft Campus Agreement | Rhode Island College', 'snippet': 'Rhode Island College has participated in the Microsoft Campus Agreement since 2001. At which time the college became the first institution of higher education in Rhode Island to provide its faculty, staff, and students the opportunity to download the Microsoft Office Suite for free on up to 5 machines.'}, {'name': 'Langevin named head of new RIC Institute for Cybersecurity and ... - ABC6', 'snippet': 'April 7, 2023 12:03 pm. Anthony Vega. PROVIDENCE, R.I. (WLNE) — Former Congressman Jim Langevin on Friday was named the head of a new Rhode Island College Institute for Cybersecurity and ...'}, {'name': 'News | Rhode Island College', 'snippet': 'Spotlight on Students Research RIC’s First Open Textbook Written by Faculty Debuts 07/21/2023 RIC faculty are encouraged to use and compose more open textbooks for their courses. News Spotlight on Faculty Social Sciences RIC Alum Earns Gamm Theatre Fellowship 07/17/2023 Rhode Island College Impact'}, {'name': 'Help Center | Rhode Island College', 'snippet': 'Microsoft Campus Agreement Residence Halls Computer Information Technology Policies and Guidelines Staff Mr. Scott E. Badger Lead Instructional Technologist Mr. Michael Caine Technician Support Specialist I (UNIX/NETWORKS) Mr. Jack Mello Lead Information Technologist Laurie Proulx Technical Support Specialist II (DOS/MVS) Jennifer M. Smith'}, {'name': 'News & Events | Rhode Island College', 'snippet': 'Undergraduate Admissions Rhode Island College offers the most affordable high-quality four-year degree in the region. Get started now on your journey to success. Graduate Admissions Rhode Island College ranks number one among public master’s universities in New England according to Washington Monthly. The fastest and most affordable path to ...'}, {'name': 'Article - Microsoft 365: Our RIC bran...', 'snippet': 'OPTION 2 - Look up the RIC organization in M365. Instead of entering your Username, click on Sign-in options. Of the options provided, select Sign in to an organization. You are now prompted with the dialog Find your organization. On the input field (Hint: Domain name) enter ric.edu and click Next. Now you will be redirected to the RIC branded ...'}, {'name': \"See Which Rhode Island Colleges Ranked Among U.S. News' 2022-23 Best\", 'snippet': 'Providence College, No. 1. Rhode Island School of Design, No. 3. Bryant University, No. 7. Roger Williams University, No. 28. Salve Regina University, No. 28. Johnson & Wales University, No. 70 ...'}, {'name': 'Rhode Island College - Profile, Rankings and Data | US News Best Colleges', 'snippet': 'Overview Rhode Island College is a public institution that was founded in 1854. It has a total undergraduate enrollment of 5,252 (fall 2021), its setting is suburban, and the campus size is 180...'}, {'name': \"What's News At Rhode Island College\", 'snippet': 'Rhode Island College, \"What\\'s News At Rhode Island College\" (2000). What\\'s News?. 568. ... Microsoft Internet Explorer 4.0, Microsoft Windows 95, Windows NT 4.0, and Microsoft Office 2000 and . See Training, page 5 . Photos and text by Gordon Rowley \"Have sheet music, will travel\" should be the slogan on the busi\\xad ...'}]\n",
            "GPT Response\n",
            "{\n",
            "  \"id\": \"chatcmpl-7q9dg84aCeeXjxyjcEi4EkNLbKh21\",\n",
            "  \"object\": \"chat.completion\",\n",
            "  \"created\": 1692664464,\n",
            "  \"model\": \"gpt-4\",\n",
            "  \"choices\": [\n",
            "    {\n",
            "      \"index\": 0,\n",
            "      \"finish_reason\": \"length\",\n",
            "      \"message\": {\n",
            "        \"role\": \"assistant\",\n",
            "        \"content\": \"True\"\n",
            "      }\n",
            "    }\n",
            "  ],\n",
            "  \"usage\": {\n",
            "    \"completion_tokens\": 1,\n",
            "    \"prompt_tokens\": 2522,\n",
            "    \"total_tokens\": 2523\n",
            "  }\n",
            "}\n",
            "The queried university is a partner.\n",
            "Determining if Rhode Island School of Design is a MS partner based on Bing data.\n",
            "\n",
            "\n",
            "Relevant documents from Bing:\n",
            "\n",
            "\n",
            "[{'name': 'RISD | Dezeen', 'snippet': 'Rhode Island School of Design president Rosanne Somerson has announced a series of initiatives to address the racism that has \"pervaded systems and structures at RISD for decades\",...'}, {'name': 'John Maeda - Wikipedia', 'snippet': 'John Maeda (born 1966) is a Vice President of Design and Artificial Intelligence at Microsoft. He is an American technologist and designer whose work explores where business, design, and technology merge to make space for the \"humanist technologist.\" [1] [2]'}, {'name': 'RISD finds aesthetic and mission value in new branding', 'snippet': \"The Rhode Island School of Design's Providence shows off the school's new aesthetic look. For a renowned art school, the Rhode Island School of Design does not overlook exactly how it comes across ...\"}, {'name': 'Rhode Island School of Design Withdraws from U.S. News & World ... - RISD', 'snippet': 'PROVIDENCE, RI – February 13, 2023 – Rhode Island School of Design (RISD) announced today that it will no longer participate in U.S. News & World Report ’s annual “best colleges” rankings.'}, {'name': 'RISD Drops Out of ‘U.S. News’ Undergraduate Rankings - Inside Higher Ed', 'snippet': 'By Scott Jaschik. The Rhode Island School of Design announced Monday that it will no longer participate in U.S. News & World Report ’s undergraduate college rankings. Thus far, most of the colleges dropping out have been law and medical schools, although Reed College withdrew in 1995. RISD president Crystal Williams said, “Principally ...'}, {'name': 'RISD (@risd) / Twitter', 'snippet': 'This spring’s commencement ceremony at the Rhode Island School of Design will feature a pair of luminaries as last year’s Pritzker Prize winner Francis Kéré will join Walter Hood for the event, which... 3 5 RISD @risd · May 12 Parall (elles)- A History of Women in Design @mbamtl'}, {'name': 'Infosys and Rhode Island School of Design Launch Pioneering ... - RISD', 'snippet': 'Collaboration to develop next-generation creative talent and address transformation challenges of global organizations . PROVIDENCE, RI – Infosys (NYSE: INFY), a global leader in consulting, technology and next-generation services, today announced a partnership with the Rhode Island School of Design (RISD) to foster the continued development of top designers at Infosys and explore new ways ...'}, {'name': 'Rhode Island School of Design omits itself from U.S News & World Report ...', 'snippet': \"U.S News and World Reports, the most popular college rankings platform, is facing the heat for its controversial rankings system. The Rhode Island School of Design is one of the first undergraduate schools to withdraw from the rankings, prompting discussion around university prestige. USC's reputation has been a hot topic of discussion in recent years and R-I-S-D's decision to drop out calls ...\"}, {'name': 'Rhode Island School of Design - Profile, Rankings and Data | US News ...', 'snippet': 'Overview Rhode Island School of Design is a private institution that was founded in 1877. It has a total undergraduate enrollment of 2,044 (fall 2021), its setting is urban, and the campus size...'}, {'name': 'Information for Press | RISD', 'snippet': 'Senior Director, Public Relations. 401 427-6954. jmarland@risd.edu. @risd1877 on Instagram. @risd on Twitter. RISD1877 on Facebook. RISD1877 on LinkedIn.'}]\n",
            "GPT Response\n",
            "{\n",
            "  \"id\": \"chatcmpl-7q9dhTTP8hKs5tvfdBKUwzIzzkRBp\",\n",
            "  \"object\": \"chat.completion\",\n",
            "  \"created\": 1692664465,\n",
            "  \"model\": \"gpt-4\",\n",
            "  \"choices\": [\n",
            "    {\n",
            "      \"index\": 0,\n",
            "      \"finish_reason\": \"length\",\n",
            "      \"message\": {\n",
            "        \"role\": \"assistant\",\n",
            "        \"content\": \"True\"\n",
            "      }\n",
            "    }\n",
            "  ],\n",
            "  \"usage\": {\n",
            "    \"completion_tokens\": 1,\n",
            "    \"prompt_tokens\": 2418,\n",
            "    \"total_tokens\": 2419\n",
            "  }\n",
            "}\n",
            "The queried university is a partner.\n",
            "Determining if Roger Williams University is a MS partner based on Bing data.\n",
            "\n",
            "\n",
            "Relevant documents from Bing:\n",
            "\n",
            "\n",
            "[{'name': 'Student Services | Roger Williams University', 'snippet': 'News; Events; Athletics Search Give. Menu. Who We Are. Inspired by our namesake, informed by our history and guided by our vision, we are a comprehensive University working to strengthen society through engaged teaching and learning. ... Microsoft Office, PDF, JPG, GIF, PNG, or TIF ... Working for IT at Roger Williams University is a rewarding ...'}, {'name': 'Working Remotely | Roger Williams University', 'snippet': 'Access Email Log into http://o365.rwu.edu to access Outlook on the web. You can also install the Microsoft Outlook application on your mobile device. Access Microsoft Apps Microsoft Outlook, Word, Excel, Powerpoint, and other apps are available on the web at http://o365.rwu.edu .'}, {'name': 'News | Roger Williams University', 'snippet': \"Roger Williams University Announces $20 Million Partnership with Cummings Foundation. April 6, 2022 By Jill Rodrigues '05. University to rededicate architecture school as Cummings School of Architecture, in recognition of transformative partnership and new Real Estate program. Read Full Story.\"}, {'name': 'Microsoft Office | Roger Williams University', 'snippet': 'Single Application - $124 Includes training in one Microsoft application listed below, along with practice tests, and one certification exam voucher. Register for this option Full Office Suite - $249 Includes courses for the full suite of Microsoft applications listed below, along with practice tests, and two certification exam vouchers.'}, {'name': 'The Hawks’ Herald – The Student News Site of Roger Williams University', 'snippet': 'The Student News Site of Roger Williams University. Twitter. Instagram. YouTube. Search this site Submit Search. rwuhawksherald.com 1 Old Ferry Road Bristol, RI 02809 Phone: (401) 254-3229 Email: [email protected] Home; Staff; About; Contact Us'}, {'name': 'Faculty Services | Roger Williams University', 'snippet': 'https://mediatech.rwu.eduRoger Williams University provides computer classrooms/labs across the academic buildings. For more information, including room capacity, visit the campus calendar. Hours of operation vary depending on class schedules. RWU software offerings include Microsoft Office products along with course-specific offerings.'}, {'name': 'Roger Williams University - Profile, Rankings and Data | US News Best ...', 'snippet': 'Overview Roger Williams University is a private institution that was founded in 1956. It has a total undergraduate enrollment of 4,206 (fall 2021), its setting is suburban, and the campus size is...'}, {'name': 'University Chairman Admits Using N-Word - CBS News', 'snippet': 'U.S. University Chairman Admits Using N-Word July 17, 2007 / 8:02 AM / AP The longtime chairman of the Roger Williams University board admitted Monday that he had used the N-word during a...'}, {'name': 'Roger Williams - Business Program Manager - Microsoft | LinkedIn', 'snippet': '235 followers 231 connections Join to view profile Microsoft University of Maryland Global Campus About Military Veteran and IT business professional with over 21 years of experience in...'}, {'name': 'Programs | Roger Williams University', 'snippet': \"Online C Career & Technical Education Teacher Certification Program (CTE) Education Hybrid Case Management Health Care Undergraduate Certificate Hybrid In Person Online Community Development Social, Public & Health Sciences Undergraduate Certificate Bachelor's Degree Master's Degree Hybrid In Person Online Community Policing\"}]\n",
            "GPT Response\n",
            "{\n",
            "  \"id\": \"chatcmpl-7q9dibg5uPUroS0kDGtqhXSJYR52m\",\n",
            "  \"object\": \"chat.completion\",\n",
            "  \"created\": 1692664466,\n",
            "  \"model\": \"gpt-4\",\n",
            "  \"choices\": [\n",
            "    {\n",
            "      \"index\": 0,\n",
            "      \"finish_reason\": \"length\",\n",
            "      \"message\": {\n",
            "        \"role\": \"assistant\",\n",
            "        \"content\": \"True\"\n",
            "      }\n",
            "    }\n",
            "  ],\n",
            "  \"usage\": {\n",
            "    \"completion_tokens\": 1,\n",
            "    \"prompt_tokens\": 2177,\n",
            "    \"total_tokens\": 2178\n",
            "  }\n",
            "}\n",
            "The queried university is a partner.\n",
            "Determining if Salve Regina University is a MS partner based on Bing data.\n",
            "\n",
            "\n",
            "Relevant documents from Bing:\n",
            "\n",
            "\n",
            "[{'name': 'SALVEtoday – Salve Regina University News', 'snippet': \"SALVEtoday – Salve Regina University News August 10, 2023 Salve Success: Theresa Pearson '94 reflects on successful career, loss and faith August 4, 2023 Update from Staff Advisory Council for summer, upcoming academic year July 26, 2023 Pell Center is hosting conversation with Elizabeth Rush, Pulitzer Prize-nominated author News\"}, {'name': 'Salve Regina University Delivers Next-Generation Cloud Communication ...', 'snippet': \"BOSTON, July 25, 2023 -- ( BUSINESS WIRE )-- NWN Carousel, the leading Cloud Communications Service Provider offering integrated solutions for today's Hybrid Work environments, proudly announces...\"}, {'name': 'News – SALVEtoday - Salve Regina University News', 'snippet': \"News. Salve Success: Theresa Pearson ’94 reflects on successful career, loss and faith. Teryn O'Brien August 10, 2023. Pell Center is hosting conversation with Elizabeth Rush, Pulitzer Prize-nominated author. salvetoday July 26, 2023. ... 2023 Salve Regina University. SALVEtoday Archives\"}, {'name': 'Office of Information Technology | Salve Regina University', 'snippet': 'Information Technology The Office of Information Technology creates a positive and personal experience for the Salve Regina community by delivering technical solutions that support the University’s goals and mission.'}, {'name': 'Information Technology - Frequently Asked Questions | Salve Regina ...', 'snippet': \"What is Salve Regina's recommendation for a secure password for my account? Where do I change my password? Multi-Factor Authentication What is multi-factor authentication? How do I set up multi-factor authentication on my account? Can I delete Microsoft Authenticator from my device after I set up my account and have logged in successfully?\"}, {'name': 'Celebrating University employees who graduated with a degree in ... - Salve', 'snippet': 'Salve Regina is celebrating current employees who graduated with degrees in 2022 during May’s Commencement ceremonies. Five employees are being honored for their accomplishments in 2022. Working and going to school is no easy task — especially during a pandemic.'}, {'name': 'Salve Regina keeps students connected in times of disruption', 'snippet': 'When the pandemic hit, Salve Regina University wasted no time in leaning on its Cisco Meraki Network to make the experience for students, faculty and adminis...'}, {'name': 'Salve Regina University - Profile, Rankings and Data | US News Best ...', 'snippet': '2022 Rankings Schools are ranked according to their performance across a set of widely accepted indicators of excellence. Read more about how we rank schools. #28 in Regional Universities North...'}, {'name': 'Salve Regina welcomes students back to campus for spring semester', 'snippet': '0:04. 0:42. NEWPORT — With the spring semester starting Tuesday, Salve Regina University is welcoming students back to campus with COVID tests in hand. “We made a concerted effort that, if we could do it safely, we really wanted to open, because it was so important that our faculty and staff and students have that community and be here in ...'}, {'name': 'office 365 for alumni - Salve', 'snippet': 'If you have downloaded Microsoft Office onto your personal computer or mobile device through your Salve Regina University account, your license will no longer be active and you will not be able to use those programs, you can purchase access through Microsoft or another online vendor.'}]\n",
            "GPT Response\n",
            "{\n",
            "  \"id\": \"chatcmpl-7q9djfAK85i3G0k63VjOsdHK9wgir\",\n",
            "  \"object\": \"chat.completion\",\n",
            "  \"created\": 1692664467,\n",
            "  \"model\": \"gpt-4\",\n",
            "  \"choices\": [\n",
            "    {\n",
            "      \"index\": 0,\n",
            "      \"finish_reason\": \"length\",\n",
            "      \"message\": {\n",
            "        \"role\": \"assistant\",\n",
            "        \"content\": \"True\"\n",
            "      }\n",
            "    }\n",
            "  ],\n",
            "  \"usage\": {\n",
            "    \"completion_tokens\": 1,\n",
            "    \"prompt_tokens\": 2196,\n",
            "    \"total_tokens\": 2197\n",
            "  }\n",
            "}\n",
            "The queried university is a partner.\n",
            "Determining if University of Rhode Island is a MS partner based on Bing data.\n",
            "\n",
            "\n",
            "Relevant documents from Bing:\n",
            "\n",
            "\n",
            "[{'name': 'Microsoft Office 365 now free for all URI students', 'snippet': 'As of Jan. 23, 2019, University of Rhode Island students and faculty now have free access to Microsoft Office 365 to help students prepare for future jobs. With this product, students can use 20 Microsoft applications on up to five different devices at no cost.'}, {'name': 'O365 – Information Technology Services - University of Rhode Island', 'snippet': 'O365 The Microsoft Portal is an online platform that features URI supported applications, extra online storage and cloud-connected features. URI has full access to the Microsoft tool suite (Word, Excel, etc.) for all active faculty, staff and students at URI. The Portal also includes external applications such as Zoom, Webex, Brightspace, etc.'}, {'name': 'Rhody Today - University of Rhode Island', 'snippet': 'Latest News URI economist: Little doubt Rhode Island is in ‘statistical recession’ URI’s College of Education to offer new bachelor’s degree in environmental education in fall ‘24 Tracy Santos receives Student Veteran Leadership Award Nanoparticle research aims to treat chronic liver disease, help prevent common cancer'}, {'name': 'Information Technology Services - University of Rhode Island', 'snippet': 'Getting Started Welcome to URI and IT@URI! Here are the key resources and tools to help you get started on the right foot. For Students Everything you need to get hooked up with IT at URI. Get Connected For Faculty From registration to key services, everything for new faculty members. Get Going For Staff Get […] Skip to content Search Searchbox'}, {'name': 'URI announces new quantum computing initiative on World Quantum Day', 'snippet': 'KINGSTON, R.I. – April 14, 2023 – On World Quantum Day, April 14, the University of Rhode Island community gathered to celebrate a new quantum computing initiative, aimed at positioning URI students and the Rhode Island workforce at the forefront of the next great computing revolution.'}, {'name': 'Search News – Rhody Today - University of Rhode Island', 'snippet': 'University of Rhode Island. You. Future Students; Students; Faculty; Staff; Parents and Families; Rhody Today'}, {'name': 'URI’s Fall Welcome, 2022-23 – Rhody Today - University of Rhode Island', 'snippet': 'KINGSTON, R.I. – Sept. 1, 2022 – The University of Rhode Island is set to welcome the Class of 2026 and thousands of returning students to its Kingston, Narragansett Bay, and Providence campuses during the next week. Classes officially begin at the state’s flagship research university on Sept. 7.'}, {'name': 'URI prepares to welcome more than 17,000 new and returning students to ...', 'snippet': 'KINGSTON, R.I. – August 15, 2023 – The University of Rhode Island is set to welcome thousands of new and returning students for the start of the 2023-24 academic year. Fall semester classes officially begin at the state’s flagship public research university on Sept. 6. The academic year kicks off with a full slate of academic, athletic ...'}, {'name': 'Microsoft Portal Apps Explained - University of Rhode Island', 'snippet': 'Microsoft Word is a popular word-processing program used primarily for creating documents such as reports, letters, brochures, learning activities, tests, quizzes and students’ homework assignments. There are many simple but useful features available in Microsoft Word to make it easier for study and work.'}, {'name': 'URI is requiring students, faculty, staff to get COVID booster', 'snippet': 'The University of Rhode Island is requiring eligible students, staff and faculty to get COVID-19 boosters before returning to for the spring semester, the university announced Monday. Students ...'}]\n",
            "GPT Response\n",
            "{\n",
            "  \"id\": \"chatcmpl-7q9dkb9TAwM2CWqeDL8Mwnyxbxzo8\",\n",
            "  \"object\": \"chat.completion\",\n",
            "  \"created\": 1692664468,\n",
            "  \"model\": \"gpt-4\",\n",
            "  \"choices\": [\n",
            "    {\n",
            "      \"index\": 0,\n",
            "      \"finish_reason\": \"length\",\n",
            "      \"message\": {\n",
            "        \"role\": \"assistant\",\n",
            "        \"content\": \"True\"\n",
            "      }\n",
            "    }\n",
            "  ],\n",
            "  \"usage\": {\n",
            "    \"completion_tokens\": 1,\n",
            "    \"prompt_tokens\": 3139,\n",
            "    \"total_tokens\": 3140\n",
            "  }\n",
            "}\n",
            "The queried university is a partner.\n"
          ]
        }
      ],
      "source": [
        "df = {'university': [\"Brown University\", \"Bryant University\", \"College Unbound\", \"Community College of Rhode Island\", \"Johnson & Wales University\", \"Naval War College\", \"New England Institute of Technology\", \"Providence College\", \"Rhode Island College\", \"Rhode Island School of Design\", \"Roger Williams University\", \"Salve Regina University\", \"University of Rhode Island\"]}\n",
        "df = pd.DataFrame.from_dict(df)\n",
        "df['ms_partner?'] = df.university.apply(lambda _university_name_: determine_if_MS_partner(_university_name_))"
      ]
    },
    {
      "cell_type": "code",
      "execution_count": 15,
      "metadata": {
        "jupyter": {
          "outputs_hidden": false,
          "source_hidden": false
        },
        "nteract": {
          "transient": {
            "deleting": false
          }
        }
      },
      "outputs": [
        {
          "data": {
            "application/vnd.livy.statement-meta+json": {
              "execution_finish_time": "2023-08-22T00:34:33.8537076Z",
              "execution_start_time": "2023-08-22T00:34:33.6909958Z",
              "livy_statement_state": "available",
              "parent_msg_id": "69abbcd2-0aa4-45e0-a142-4f30b3a27d14",
              "queued_time": "2023-08-22T00:34:33.5702752Z",
              "session_id": "2",
              "session_start_time": null,
              "spark_jobs": null,
              "spark_pool": "smallSpark",
              "state": "finished",
              "statement_id": 16
            },
            "text/plain": [
              "StatementMeta(smallSpark, 2, 16, Finished, Available)"
            ]
          },
          "metadata": {},
          "output_type": "display_data"
        },
        {
          "data": {
            "text/html": [
              "<div>\n",
              "<style scoped>\n",
              "    .dataframe tbody tr th:only-of-type {\n",
              "        vertical-align: middle;\n",
              "    }\n",
              "\n",
              "    .dataframe tbody tr th {\n",
              "        vertical-align: top;\n",
              "    }\n",
              "\n",
              "    .dataframe thead th {\n",
              "        text-align: right;\n",
              "    }\n",
              "</style>\n",
              "<table border=\"1\" class=\"dataframe\">\n",
              "  <thead>\n",
              "    <tr style=\"text-align: right;\">\n",
              "      <th></th>\n",
              "      <th>university</th>\n",
              "      <th>ms_partner?</th>\n",
              "    </tr>\n",
              "  </thead>\n",
              "  <tbody>\n",
              "    <tr>\n",
              "      <th>0</th>\n",
              "      <td>Brown University</td>\n",
              "      <td>True</td>\n",
              "    </tr>\n",
              "    <tr>\n",
              "      <th>1</th>\n",
              "      <td>Bryant University</td>\n",
              "      <td>True</td>\n",
              "    </tr>\n",
              "    <tr>\n",
              "      <th>2</th>\n",
              "      <td>College Unbound</td>\n",
              "      <td>True</td>\n",
              "    </tr>\n",
              "    <tr>\n",
              "      <th>3</th>\n",
              "      <td>Community College of Rhode Island</td>\n",
              "      <td>True</td>\n",
              "    </tr>\n",
              "    <tr>\n",
              "      <th>4</th>\n",
              "      <td>Johnson &amp; Wales University</td>\n",
              "      <td>False</td>\n",
              "    </tr>\n",
              "    <tr>\n",
              "      <th>5</th>\n",
              "      <td>Naval War College</td>\n",
              "      <td>True</td>\n",
              "    </tr>\n",
              "    <tr>\n",
              "      <th>6</th>\n",
              "      <td>New England Institute of Technology</td>\n",
              "      <td>True</td>\n",
              "    </tr>\n",
              "    <tr>\n",
              "      <th>7</th>\n",
              "      <td>Providence College</td>\n",
              "      <td>True</td>\n",
              "    </tr>\n",
              "    <tr>\n",
              "      <th>8</th>\n",
              "      <td>Rhode Island College</td>\n",
              "      <td>True</td>\n",
              "    </tr>\n",
              "    <tr>\n",
              "      <th>9</th>\n",
              "      <td>Rhode Island School of Design</td>\n",
              "      <td>True</td>\n",
              "    </tr>\n",
              "    <tr>\n",
              "      <th>10</th>\n",
              "      <td>Roger Williams University</td>\n",
              "      <td>True</td>\n",
              "    </tr>\n",
              "    <tr>\n",
              "      <th>11</th>\n",
              "      <td>Salve Regina University</td>\n",
              "      <td>True</td>\n",
              "    </tr>\n",
              "    <tr>\n",
              "      <th>12</th>\n",
              "      <td>University of Rhode Island</td>\n",
              "      <td>True</td>\n",
              "    </tr>\n",
              "  </tbody>\n",
              "</table>\n",
              "</div>"
            ],
            "text/plain": [
              "                             university  ms_partner?\n",
              "0                      Brown University         True\n",
              "1                     Bryant University         True\n",
              "2                       College Unbound         True\n",
              "3     Community College of Rhode Island         True\n",
              "4            Johnson & Wales University        False\n",
              "5                     Naval War College         True\n",
              "6   New England Institute of Technology         True\n",
              "7                    Providence College         True\n",
              "8                  Rhode Island College         True\n",
              "9         Rhode Island School of Design         True\n",
              "10            Roger Williams University         True\n",
              "11              Salve Regina University         True\n",
              "12           University of Rhode Island         True"
            ]
          },
          "execution_count": 33,
          "metadata": {},
          "output_type": "execute_result"
        }
      ],
      "source": [
        "df"
      ]
    },
    {
      "cell_type": "code",
      "execution_count": null,
      "metadata": {
        "jupyter": {
          "outputs_hidden": false,
          "source_hidden": false
        },
        "nteract": {
          "transient": {
            "deleting": false
          }
        }
      },
      "outputs": [],
      "source": []
    }
  ],
  "metadata": {
    "description": null,
    "kernelspec": {
      "display_name": "Synapse PySpark",
      "name": "synapse_pyspark"
    },
    "language_info": {
      "name": "python"
    },
    "save_output": true,
    "synapse_widget": {
      "state": {},
      "version": "0.1"
    }
  },
  "nbformat": 4,
  "nbformat_minor": 2
}
