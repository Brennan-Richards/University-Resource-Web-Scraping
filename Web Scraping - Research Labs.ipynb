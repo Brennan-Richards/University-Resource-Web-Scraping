{
  "cells": [
    {
      "cell_type": "code",
      "execution_count": 1,
      "metadata": {},
      "outputs": [],
      "source": [
        "import pandas as pd\n",
        "import requests\n",
        "from bs4 import BeautifulSoup\n",
        "import os"
      ]
    },
    {
      "cell_type": "markdown",
      "metadata": {
        "nteract": {
          "transient": {
            "deleting": false
          }
        }
      },
      "source": [
        "### Get the research labs webpage"
      ]
    },
    {
      "cell_type": "code",
      "execution_count": 2,
      "metadata": {
        "jupyter": {
          "outputs_hidden": false,
          "source_hidden": false
        },
        "nteract": {
          "transient": {
            "deleting": false
          }
        }
      },
      "outputs": [],
      "source": [
        "url_extension = 'non_oap_facpubs/index.11.html'\n",
        "LINK_INDICATOR = \"facpubs/\"\n",
        "URL = f\"https://web.uri.edu/bec/access-uris-research-and-lab-facilities/\"\n",
        "page = requests.get(URL)"
      ]
    },
    {
      "cell_type": "markdown",
      "metadata": {
        "nteract": {
          "transient": {
            "deleting": false
          }
        }
      },
      "source": [
        "### Parse out specific data from the page content"
      ]
    },
    {
      "cell_type": "code",
      "execution_count": 3,
      "metadata": {
        "jupyter": {
          "outputs_hidden": false,
          "source_hidden": false
        },
        "nteract": {
          "transient": {
            "deleting": false
          }
        }
      },
      "outputs": [],
      "source": [
        "soup = BeautifulSoup(page.content, \"html.parser\")"
      ]
    },
    {
      "cell_type": "markdown",
      "metadata": {
        "nteract": {
          "transient": {
            "deleting": false
          }
        }
      },
      "source": [
        "Extract the link from each article listing"
      ]
    },
    {
      "cell_type": "code",
      "execution_count": 9,
      "metadata": {
        "jupyter": {
          "outputs_hidden": false,
          "source_hidden": false
        },
        "nteract": {
          "transient": {
            "deleting": false
          }
        }
      },
      "outputs": [],
      "source": [
        "main_div = soup.find(id=\"main\")"
      ]
    },
    {
      "cell_type": "code",
      "execution_count": 10,
      "metadata": {
        "jupyter": {
          "outputs_hidden": false,
          "source_hidden": false
        },
        "nteract": {
          "transient": {
            "deleting": false
          }
        }
      },
      "outputs": [],
      "source": [
        "print(main_div)"
      ]
    },
    {
      "cell_type": "code",
      "execution_count": 40,
      "metadata": {
        "jupyter": {
          "outputs_hidden": false,
          "source_hidden": false
        },
        "nteract": {
          "transient": {
            "deleting": false
          }
        }
      },
      "outputs": [],
      "source": [
        "# Get the link to the page containing more information on this dissertation.\n",
        "labs = main_div.find_all(\"p\")[1:-4] # , class_=\"article-listing\")\n",
        "labs"
      ]
    },
    {
      "cell_type": "code",
      "execution_count": 42,
      "metadata": {
        "jupyter": {
          "outputs_hidden": false,
          "source_hidden": false
        },
        "nteract": {
          "transient": {
            "deleting": false
          }
        }
      },
      "outputs": [],
      "source": [
        "lab_links = [str(l.find_all('a')[0]).split('\\\"')[1] if len(l.find_all('a')) > 0 else None for l in labs]\n",
        "links"
      ]
    },
    {
      "cell_type": "code",
      "execution_count": 50,
      "metadata": {
        "jupyter": {
          "outputs_hidden": false,
          "source_hidden": false
        },
        "nteract": {
          "transient": {
            "deleting": false
          }
        }
      },
      "outputs": [],
      "source": [
        "lab_names = [str(l.find_all('strong')[0])[8:-9] if len(l.find_all('strong')) > 0 else None for l in labs]\n",
        "lab_names"
      ]
    },
    {
      "cell_type": "code",
      "execution_count": 51,
      "metadata": {
        "jupyter": {
          "outputs_hidden": false,
          "source_hidden": false
        },
        "nteract": {
          "transient": {
            "deleting": false
          }
        }
      },
      "outputs": [],
      "source": [
        "print(len(lab_names))\n",
        "print(len(lab_links))"
      ]
    },
    {
      "cell_type": "code",
      "execution_count": 82,
      "metadata": {
        "jupyter": {
          "outputs_hidden": false,
          "source_hidden": false
        },
        "nteract": {
          "transient": {
            "deleting": false
          }
        }
      },
      "outputs": [],
      "source": [
        "df_dict = {\n",
        "    'who': lab_names,\n",
        "    'link': lab_links,\n",
        "    'desc': [l.get_text() for l in labs],\n",
        "    'web_desc': [None for _ in range(len(lab_links))],\n",
        "    'when': ['2023' for _ in range(len(lab_links))],\n",
        "    'what': [None for _ in range(len(lab_links))]\n",
        "}\n",
        "df = pd.DataFrame.from_dict(df_dict)"
      ]
    },
    {
      "cell_type": "markdown",
      "metadata": {
        "nteract": {
          "transient": {
            "deleting": false
          }
        }
      },
      "source": [
        "Get each linked page and extract each desired data point from that page"
      ]
    },
    {
      "cell_type": "code",
      "execution_count": 83,
      "metadata": {
        "jupyter": {
          "outputs_hidden": false,
          "source_hidden": false
        },
        "nteract": {
          "transient": {
            "deleting": false
          }
        }
      },
      "outputs": [],
      "source": [
        "db_entries = []\n",
        "\n",
        "for index, row in df.iterrows():\n",
        "    try:\n",
        "        url = row['link']\n",
        "        _lab_page = requests.get(url)\n",
        "        _lab_soup = BeautifulSoup(_lab_page.content, \"html.parser\")\n",
        "        _main_div = _lab_soup.find(id=\"main\")\n",
        "        lab_page_text = _main_div.get_text()\n",
        "        row['web_desc'] = lab_page_text\n",
        "        \n",
        "    except Exception as e:\n",
        "        print(e)\n",
        "\n",
        "    # print(\"\\n\\nWhat: \", d['what'])\n",
        "    # print(\"\\n\\nWho: \", d['who'])\n",
        "    # print(\"\\n\\nWhen: \", date_awarded)\n"
      ]
    },
    {
      "cell_type": "code",
      "execution_count": 84,
      "metadata": {
        "jupyter": {
          "outputs_hidden": false,
          "source_hidden": false
        },
        "nteract": {
          "transient": {
            "deleting": false
          }
        }
      },
      "outputs": [],
      "source": [
        "df"
      ]
    },
    {
      "cell_type": "code",
      "execution_count": 85,
      "metadata": {
        "jupyter": {
          "outputs_hidden": false,
          "source_hidden": false
        },
        "nteract": {
          "transient": {
            "deleting": false
          }
        }
      },
      "outputs": [],
      "source": [
        "# Create the 'what' column through concatenation.\n",
        "for index, row in df.iterrows():\n",
        "    row['what'] = str(row['desc']) + str(row['web_desc'])"
      ]
    },
    {
      "cell_type": "code",
      "execution_count": 88,
      "metadata": {
        "jupyter": {
          "outputs_hidden": false,
          "source_hidden": false
        },
        "nteract": {
          "transient": {
            "deleting": false
          }
        }
      },
      "outputs": [],
      "source": [
        "df = df.drop(['web_desc', 'desc'], axis=1)\n",
        "df"
      ]
    },
    {
      "cell_type": "code",
      "execution_count": 89,
      "metadata": {
        "jupyter": {
          "outputs_hidden": false,
          "source_hidden": false
        },
        "nteract": {
          "transient": {
            "deleting": false
          }
        }
      },
      "outputs": [],
      "source": [
        "file_name = os.getenv(\"RL_FILE_NAME\")\n",
        "file_name"
      ]
    },
    {
      "cell_type": "code",
      "execution_count": 90,
      "metadata": {
        "jupyter": {
          "outputs_hidden": false,
          "source_hidden": false
        },
        "nteract": {
          "transient": {
            "deleting": false
          }
        }
      },
      "outputs": [],
      "source": [
        "df.to_csv(file_name)"
      ]
    },
    {
      "cell_type": "code",
      "execution_count": null,
      "metadata": {
        "jupyter": {
          "outputs_hidden": false,
          "source_hidden": false
        },
        "nteract": {
          "transient": {
            "deleting": false
          }
        }
      },
      "outputs": [],
      "source": []
    }
  ],
  "metadata": {
    "description": null,
    "kernelspec": {
      "display_name": "Synapse PySpark",
      "name": "synapse_pyspark"
    },
    "language_info": {
      "name": "python"
    },
    "save_output": true
  },
  "nbformat": 4,
  "nbformat_minor": 2
}
